{
 "cells": [
  {
   "cell_type": "markdown",
   "id": "ac60394f",
   "metadata": {
    "id": "ac60394f"
   },
   "source": [
    "# Estruturas de repetição\n",
    "\n",
    "<span style=\"color: red;\"><b>Todos os exercícios são feitos partindo-se do pressuposto de que todas as entradas são dadas de forma correta. Casos limite não mencionados no enunciado não são abordados porque não fazem parte do exercício.</b></span>"
   ]
  },
  {
   "cell_type": "markdown",
   "id": "017affd0",
   "metadata": {
    "id": "017affd0"
   },
   "source": [
    "#### 1. Faça um programa que peça uma nota, entre zero e dez. Mostre uma mensagem caso o valor seja inválido e continue pedindo até que o usuário informe um valor válido."
   ]
  },
  {
   "cell_type": "code",
   "execution_count": 4,
   "id": "5f12870d",
   "metadata": {
    "id": "5f12870d"
   },
   "outputs": [
    {
     "name": "stdout",
     "output_type": "stream",
     "text": [
      "digite uma nota de 0 10:8\n",
      "nota valida\n"
     ]
    }
   ],
   "source": [
    "nota = float(input('digite uma nota de 0 10:'))\n",
    "while nota < 0 or nota > 10:\n",
    "    print('nota invalida. digite novamente!')\n",
    "    nota = float(input('digite uma nota de 0 10:'))\n",
    "print('nota valida')   \n",
    "    \n",
    "    \n",
    "    "
   ]
  },
  {
   "cell_type": "markdown",
   "id": "dd0c6d56",
   "metadata": {
    "id": "dd0c6d56"
   },
   "source": [
    "#### 2. Faça um programa que leia um nome de usuário e a sua senha e não aceite a senha igual ao nome do usuário, mostrando uma mensagem de erro e voltando a pedir as informações."
   ]
  },
  {
   "cell_type": "code",
   "execution_count": 6,
   "id": "f6579866",
   "metadata": {
    "id": "f6579866"
   },
   "outputs": [
    {
     "name": "stdout",
     "output_type": "stream",
     "text": [
      "nome do usuario: fefe\n",
      "senha do usuario: fefe\n",
      "erro. senha invalida.\n",
      "nome do usuario: fefe\n",
      "senha do usuario: FEFE\n",
      "senha valida.\n"
     ]
    }
   ],
   "source": [
    "nome = input('nome do usuario: ')\n",
    "senha = input('senha do usuario: ')\n",
    "while nome == senha:\n",
    "    print('erro. senha invalida.')\n",
    "    nome = input('nome do usuario: ')\n",
    "    senha = input('senha do usuario: ')\n",
    "print('senha valida.')"
   ]
  },
  {
   "cell_type": "markdown",
   "id": "ed113a82",
   "metadata": {
    "id": "ed113a82"
   },
   "source": [
    "#### 3. Faça um programa que leia e valide as seguintes informações (e para cada uma delas, continue pedindo a informação até o usuário inserir corretamente):\n",
    "##### Nome: maior que 3 caracteres;\n",
    "##### Idade: entre 0 e 150;\n",
    "##### Salário: maior que zero;\n",
    "##### Sexo: 'f' ou 'm';\n",
    "##### Estado Civil: 's', 'c', 'v', 'd';"
   ]
  },
  {
   "cell_type": "code",
   "execution_count": 1,
   "id": "3284f187",
   "metadata": {
    "id": "3284f187"
   },
   "outputs": [
    {
     "name": "stdout",
     "output_type": "stream",
     "text": [
      "nome: FERNANDO\n",
      "idade: 180\n",
      "idade tem que ser entre 0 e 150\n",
      "idade: 34\n",
      "salario: 0\n",
      "salario inferior a zero. digite novamente.\n",
      "salario: 2230\n",
      "sexo [f/m]: M\n",
      "estado civil: [s, c, v, d]SOLTEIRO\n",
      "estado civil invalido. digite novamente.\n",
      "estado civil: [s, c, v, d]S\n",
      "CADASTRO REALIZADO COM SUCESSO!\n"
     ]
    }
   ],
   "source": [
    "nome = input('nome: ').strip()\n",
    "while  not len(nome) > 3:\n",
    "    print('nome invalido. tem que ter mais de 3 caractere')\n",
    "    nome = input('nome: ')  \n",
    "    \n",
    "idade = int(input('idade: '))\n",
    "while idade < 0 or idade > 150:\n",
    "    print('idade tem que ser entre 0 e 150')\n",
    "    idade = int(input('idade: '))\n",
    "    \n",
    "salario = float(input('salario: '))\n",
    "while salario <= 0:\n",
    "    print('salario inferior a zero. digite novamente.')\n",
    "    salario = float(input('salario: '))\n",
    "    \n",
    "sexo = input('sexo [f/m]: ').lower().strip()\n",
    "while sexo not in 'fm':\n",
    "    print('sexo invalido. digite novamente.')\n",
    "    sexo = input('sexo [f/m]: ').lower().strip()\n",
    "\n",
    "estado_civil = input('estado civil: [s, c, v, d]').lower().strip()\n",
    "while estado_civil not in 'scvd':\n",
    "    print('estado civil invalido. digite novamente.')\n",
    "    estado_civil = input('estado civil: [s, c, v, d]').lower().strip()\n",
    "    \n",
    "print('CADASTRO REALIZADO COM SUCESSO!')"
   ]
  },
  {
   "cell_type": "markdown",
   "id": "2f25dceb",
   "metadata": {
    "id": "2f25dceb"
   },
   "source": [
    "#### 4. Supondo que a população de um país A seja da ordem de 80000 habitantes com uma taxa anual de crescimento de 3% e que a população de B seja 200000 habitantes com uma taxa de crescimento de 1.5%. Faça um programa que calcule e escreva o número de anos necessários para que a população do país A ultrapasse ou iguale a população do país B, mantidas as taxas de crescimento."
   ]
  },
  {
   "cell_type": "code",
   "execution_count": 5,
   "id": "7ad0f5e9",
   "metadata": {
    "id": "7ad0f5e9"
   },
   "outputs": [
    {
     "name": "stdout",
     "output_type": "stream",
     "text": [
      "serao cecessarios 63 anos, A = 515033.1 B =510964.4\n"
     ]
    }
   ],
   "source": [
    "a = 80000\n",
    "b = 200000\n",
    "cont = 0\n",
    "while a < b:\n",
    "    a += a * 0.03\n",
    "    b += b * (0.015)\n",
    "    cont += 1\n",
    "print(f'serao cecessarios {cont:} anos, A = {a:.1f} B ={b:.1f}')"
   ]
  },
  {
   "cell_type": "code",
   "execution_count": null,
   "id": "5445a7d1",
   "metadata": {},
   "outputs": [],
   "source": [
    "populacao_A = 80000\n",
    "populacao_B = 200000\n",
    "\n",
    "tempo = 0\n",
    "\n",
    "while populacao_A < populacao_B:\n",
    "    populacao_A *= 1.03\n",
    "    populacao_B *= 1.015\n",
    "    tempo += 1\n",
    "\n",
    "print('São necessários', tempo, 'anos para a população A igualar ou superar a população B')"
   ]
  },
  {
   "cell_type": "markdown",
   "id": "e9626858",
   "metadata": {
    "id": "e9626858"
   },
   "source": [
    "#### 5. Altere o programa anterior permitindo ao usuário informar as populações e as taxas de crescimento iniciais. Valide a entrada e permita repetir a operação."
   ]
  },
  {
   "cell_type": "code",
   "execution_count": null,
   "id": "c7e250a4",
   "metadata": {
    "id": "c7e250a4"
   },
   "outputs": [
    {
     "name": "stdout",
     "output_type": "stream",
     "text": [
      "populaçao do pais A: 0\n",
      "a população precisa ser maior que zero. digite novamente-1\n",
      "a população precisa ser maior que zero. digite novamente34\n"
     ]
    }
   ],
   "source": [
    "repete = 's'\n",
    "\n",
    "while repete == 's':\n",
    "\n",
    "    populacao_A = int(input('Informe a população A: '))\n",
    "    populacao_B = int(input('Informe a população B: '))\n",
    "\n",
    "    while populacao_A <= 0 or populacao_B <= 0:\n",
    "        print('As populações precisam ser maiores que zero')\n",
    "        populacao_A = int(input('Informe a população A: '))\n",
    "        populacao_B = int(input('Informe a população B: '))\n",
    "\n",
    "    taxa_A = float(input('Informe a taxa de crescimento da população A em porcentagem (exemplo: entre 3 para 3%): '))\n",
    "    taxa_B = float(input('Informe a taxa de crescimento da população A em porcentagem (exemplo: entre 3 para 3%): '))\n",
    "\n",
    "    while taxa_A <= 0 or taxa_B <= 0:\n",
    "        print('As taxas precisam ser maiores que zero')\n",
    "        taxa_A = float(input('Informe a taxa de crescimento da população A em porcentagem (exemplo: entre 3 para 3%): '))\n",
    "        taxa_B = float(input('Informe a taxa de crescimento da população A em porcentagem (exemplo: entre 3 para 3%): '))\n",
    "\n",
    "    taxa_A = taxa_A / 100 + 1\n",
    "    taxa_B = taxa_B / 100 + 1\n",
    "\n",
    "    tempo = 0\n",
    "\n",
    "    while populacao_A < populacao_B:\n",
    "        populacao_A *= taxa_A\n",
    "        populacao_B *= taxa_B\n",
    "        tempo += 1\n",
    "\n",
    "    print('São necessários', tempo, 'anos para a população A igualar ou superar a população B')\n",
    "    \n",
    "    repete = input('Deseja repetir a operação? Tecle \"s\" para sim, qualquer outra tecla para não.')"
   ]
  },
  {
   "cell_type": "markdown",
   "id": "b3d268b5",
   "metadata": {
    "id": "b3d268b5"
   },
   "source": [
    "#### 6. Faça um programa que peça para o usuário inserir o faturamento dos últimos 5 meses (individualmente) e informe o maior faturamento"
   ]
  },
  {
   "cell_type": "code",
   "execution_count": null,
   "id": "8078e7a5",
   "metadata": {
    "id": "8078e7a5"
   },
   "outputs": [],
   "source": [
    "for i in range (5):\n",
    "    faturamento_mes = float(input(f'informe o {i+1}.° faturamento '))\n",
    "    if i == 0:\n",
    "        maior = faturamento_mes\n",
    "    else:\n",
    "        if faturamento_mes > maior:\n",
    "            maior = faturamento_mes\n",
    "print(f'o maior faturaamento foi R$ {maior}.')"
   ]
  },
  {
   "cell_type": "markdown",
   "id": "6407824c",
   "metadata": {
    "id": "6407824c"
   },
   "source": [
    "#### 7. Faça um programa que peça para o usuário inserir o faturamento dos últimos 5 meses (individualmente) e informe o faturamento total (soma) e o faturamento médio por mês (média)."
   ]
  },
  {
   "cell_type": "code",
   "execution_count": null,
   "id": "a02320d1",
   "metadata": {
    "id": "a02320d1"
   },
   "outputs": [],
   "source": [
    "soma = 0\n",
    "for i in range (5):\n",
    "    faturamento_mes = float(input(f'informe o {i+1}.° faturamento '))\n",
    "    soma += faturamento_mes\n",
    "media = soma / 5\n",
    "print(f'a soma do faturaamento foi R$ {soma}.')\n",
    "print(f'a media do faturamento foi {media:.2f}')"
   ]
  },
  {
   "cell_type": "markdown",
   "id": "703f3c4d",
   "metadata": {
    "id": "703f3c4d"
   },
   "source": [
    "#### 8. Faça um programa que consiga categorizar a idade das equipes de uma empresa. Faça um programa que peça para n pessoas a sua idade, ao final o programa devera verificar se a média de idade da equipe varia entre 0 e 25 (jovem) ,26 e 60 (sênior) e maior que 60 (idosa); e então, dizer se a equipe é jovem, sênior ou idosa, conforme a média calculada."
   ]
  },
  {
   "cell_type": "code",
   "execution_count": 3,
   "id": "b56a85de",
   "metadata": {
    "id": "b56a85de"
   },
   "outputs": [
    {
     "name": "stdout",
     "output_type": "stream",
     "text": [
      "idade: 10\n",
      "quer continuar [S/N]: s\n",
      "idade: 10\n",
      "quer continuar [S/N]: s\n",
      "idade: 2\n",
      "quer continuar [S/N]: n\n",
      "a media de idade é 7.333333333333333 portanto a equipe é jovem\n"
     ]
    }
   ],
   "source": [
    "resp = 's'\n",
    "soma_idade = 0\n",
    "cont_idade = 0\n",
    "while resp == 's':\n",
    "    idade = (int(input('idade: ')))\n",
    "    soma_idade += idade\n",
    "    cont_idade += 1\n",
    "    resp = str(input('quer continuar [S/N]: ')).lower().strip()\n",
    "media = 0\n",
    "media = soma_idade / cont_idade\n",
    "if 0 <= media <= 25:\n",
    "    faixa_etaria = 'jovem'\n",
    "elif 26 <= media <= 60:\n",
    "    faixa_etaria = 'sênior'\n",
    "else:\n",
    "    faixa_etaria = 'idosa'\n",
    "    \n",
    "print(f'a media de idade é {media:.2f} portanto a equipe é {faixa_etaria}')"
   ]
  },
  {
   "cell_type": "markdown",
   "id": "aad21b98",
   "metadata": {
    "id": "aad21b98"
   },
   "source": [
    "#### 9. Numa eleição existem três candidatos. Faça um programa que peça o número total de eleitores. Peça para cada eleitor votar e ao final mostrar o número de votos de cada candidato."
   ]
  },
  {
   "cell_type": "code",
   "execution_count": 3,
   "id": "84aa7a93",
   "metadata": {
    "id": "84aa7a93"
   },
   "outputs": [
    {
     "name": "stdout",
     "output_type": "stream",
     "text": [
      "total de eleitores: 5\n",
      "eleitor 1 informe sua de voto:\n",
      "    [a]- candidato a\n",
      "    [b]- candidato b\n",
      "    [c]- candidato c\n",
      "    a\n",
      "eleitor 2 informe sua de voto:\n",
      "    [a]- candidato a\n",
      "    [b]- candidato b\n",
      "    [c]- candidato c\n",
      "    a\n",
      "eleitor 3 informe sua de voto:\n",
      "    [a]- candidato a\n",
      "    [b]- candidato b\n",
      "    [c]- candidato c\n",
      "    b\n",
      "eleitor 4 informe sua de voto:\n",
      "    [a]- candidato a\n",
      "    [b]- candidato b\n",
      "    [c]- candidato c\n",
      "    c\n",
      "eleitor 5 informe sua de voto:\n",
      "    [a]- candidato a\n",
      "    [b]- candidato b\n",
      "    [c]- candidato c\n",
      "    c\n",
      "total de votos do candidato A: 2\n",
      "total de votos do candidato B: 1\n",
      "total de votos do candidato C: 2\n"
     ]
    }
   ],
   "source": [
    "cont_voto_a = cont_voto_b = cont_voto_c = 0\n",
    "total_eleitores = int(input('total de eleitores: '))\n",
    "for i in range (total_eleitores):\n",
    "    voto = str(input(f'''eleitor {i+1} informe sua de voto:\n",
    "    [a]- candidato a\n",
    "    [b]- candidato b\n",
    "    [c]- candidato c\n",
    "    '''))\n",
    "    if voto == 'a':\n",
    "        cont_voto_a += 1\n",
    "    elif voto == 'b':\n",
    "        cont_voto_b += 1\n",
    "    elif voto == 'c':\n",
    "        cont_voto_c += 1\n",
    "\n",
    "print(f'total de votos do candidato A: {cont_voto_a}')\n",
    "print(f'total de votos do candidato B: {cont_voto_b}')\n",
    "print(f'total de votos do candidato C: {cont_voto_c}')"
   ]
  },
  {
   "cell_type": "markdown",
   "id": "6e306453",
   "metadata": {
    "id": "6e306453"
   },
   "source": [
    "#### 10. Faça um programa que calcule o valor total investido por um colecionador em sua coleção de CDs e o valor médio gasto em cada um deles. O usuário deverá informar a quantidade de CDs e o valor para em cada um."
   ]
  },
  {
   "cell_type": "code",
   "execution_count": 1,
   "id": "6b7fa4a2",
   "metadata": {
    "id": "6b7fa4a2"
   },
   "outputs": [
    {
     "name": "stdout",
     "output_type": "stream",
     "text": [
      "quantidade de cds: 3\n",
      "valor do cd 1:5\n",
      "valor do cd 2:10\n",
      "valor do cd 3:15\n",
      "o valor total gasto foi R$30.00\n",
      "a media de preco por cd foi de R$ 10.00\n"
     ]
    }
   ],
   "source": [
    "valor_total = 0\n",
    "qtde_cds = int(input('quantidade de cds: '))\n",
    "\n",
    "for i in range (qtde_cds):\n",
    "    valor_cd = float(input(f'valor do cd {i+1}:'))\n",
    "    valor_total += valor_cd\n",
    "\n",
    "media = valor_total/qtde_cds\n",
    "print(f'o valor total gasto foi R${valor_total:.2f}')\n",
    "print(f'a media de preco por cd foi de R$ {media:.2f}')\n",
    "    \n"
   ]
  },
  {
   "cell_type": "markdown",
   "id": "f19c8d86",
   "metadata": {
    "id": "f19c8d86"
   },
   "source": [
    "#### 11. O Sr. Manoel Joaquim possui uma grande loja de artigos de R\\\\$ 1,99, com cerca de 10 caixas. Para agilizar o cálculo de quanto cada cliente deve pagar ele desenvolveu um tabela que contém o número de itens que o cliente comprou e ao lado o valor da conta. Desta forma a atendente do caixa precisa apenas contar quantos itens o cliente está levando e olhar na tabela de preços. Você foi contratado para desenvolver o programa que monta esta tabela de preços, que conterá os preços de 1 até 50 produtos, conforme o exemplo abaixo:\n",
    "<pre>\n",
    "Lojas Quase Dois - Tabela de preços\n",
    "1 - R$ 1.99\n",
    "2 - R$ 3.98\n",
    "...\n",
    "50 - R$ 99.50\n",
    "</pre>"
   ]
  },
  {
   "cell_type": "code",
   "execution_count": 9,
   "id": "4fc4d54d",
   "metadata": {
    "id": "4fc4d54d"
   },
   "outputs": [
    {
     "name": "stdout",
     "output_type": "stream",
     "text": [
      "=-=-=-=-=-=-=-=-=-=-=-=-=-=-=-=-=-=-=-=-=-=-=-=-=-=-=-=-=-=-\n",
      "                 LOJA QUASE DOIS                  \n",
      "=-=-=-=-=-=-=-=-=-=-=-=-=-=-=-=-=-=-=-=-=-=-=-=-=-=-=-=-=-=-\n",
      "1 - R$ 1.99\n",
      "2 - R$ 3.98\n",
      "3 - R$ 5.97\n",
      "4 - R$ 7.96\n",
      "5 - R$ 9.95\n",
      "6 - R$ 11.94\n",
      "7 - R$ 13.93\n",
      "8 - R$ 15.92\n",
      "9 - R$ 17.91\n",
      "10 - R$ 19.9\n",
      "11 - R$ 21.89\n",
      "12 - R$ 23.88\n",
      "13 - R$ 25.87\n",
      "14 - R$ 27.86\n",
      "15 - R$ 29.85\n",
      "16 - R$ 31.84\n",
      "17 - R$ 33.83\n",
      "18 - R$ 35.82\n",
      "19 - R$ 37.81\n",
      "20 - R$ 39.8\n",
      "21 - R$ 41.79\n",
      "22 - R$ 43.78\n",
      "23 - R$ 45.77\n",
      "24 - R$ 47.76\n",
      "25 - R$ 49.75\n",
      "26 - R$ 51.74\n",
      "27 - R$ 53.73\n",
      "28 - R$ 55.72\n",
      "29 - R$ 57.71\n",
      "30 - R$ 59.7\n",
      "31 - R$ 61.69\n",
      "32 - R$ 63.68\n",
      "33 - R$ 65.67\n",
      "34 - R$ 67.66\n",
      "35 - R$ 69.65\n",
      "36 - R$ 71.64\n",
      "37 - R$ 73.63\n",
      "38 - R$ 75.62\n",
      "39 - R$ 77.61\n",
      "40 - R$ 79.6\n",
      "41 - R$ 81.59\n",
      "42 - R$ 83.58\n",
      "43 - R$ 85.57\n",
      "44 - R$ 87.56\n",
      "45 - R$ 89.55\n",
      "46 - R$ 91.54\n",
      "47 - R$ 93.53\n",
      "48 - R$ 95.52\n",
      "49 - R$ 97.51\n",
      "50 - R$ 99.5\n"
     ]
    }
   ],
   "source": [
    "print(f'{\"=-\"*30}')\n",
    "print(f'{\"LOJA QUASE DOIS\":^50}')\n",
    "print(f'{\"=-\"*30}')\n",
    "for i  in range(50):\n",
    "    print(f'{i+1} - R$ {(i+1) * 1.99}')\n",
    "\n"
   ]
  },
  {
   "cell_type": "markdown",
   "id": "6cd19c52",
   "metadata": {
    "id": "6cd19c52"
   },
   "source": [
    "#### 12. Um funcionário de uma empresa recebe aumento salarial anualmente: Sabe-se que:\n",
    "<pre>\n",
    "Esse funcionário foi contratado em 1995, com salário inicial de R$ 1.000,00;\n",
    "Em 1996 recebeu aumento de 1,5% sobre seu salário inicial;\n",
    "A partir de 1997 (inclusive), os aumentos salariais sempre correspondem ao dobro do percentual do ano anterior. Faça um programa que determine o salário desse funcionário em 2003. \n",
    "</pre>"
   ]
  },
  {
   "cell_type": "code",
   "execution_count": 30,
   "id": "98a4811b",
   "metadata": {
    "id": "98a4811b"
   },
   "outputs": [
    {
     "name": "stdout",
     "output_type": "stream",
     "text": [
      "O salário em 2003 era R$ 13036.15\n"
     ]
    }
   ],
   "source": [
    "salario = 1000 + 1000 * 0.015\n",
    "porcentagem = 0.015\n",
    "\n",
    "for i in range(1997, 2004):\n",
    "    porcentagem = porcentagem * 2\n",
    "    salario = salario + (salario * porcentagem)\n",
    "\n",
    "print('O salário em 2003 era R$ {:.2f}'.format(salario))  "
   ]
  },
  {
   "cell_type": "code",
   "execution_count": null,
   "id": "d9ca2dcf",
   "metadata": {},
   "outputs": [],
   "source": [
    "salario = 1000 * 1.015\n",
    "porcentagem = 0.015\n",
    "\n",
    "for i in range(1997, 2004):\n",
    "    porcentagem *= 2\n",
    "    salario *= (1 + porcentagem)\n",
    "\n",
    "print('O salário em 2003 era R$ {:.2f}'.format(salario))"
   ]
  },
  {
   "cell_type": "markdown",
   "id": "227928d1",
   "metadata": {
    "id": "227928d1"
   },
   "source": [
    "#### 13. O cardápio de uma lanchonete é o seguinte:\n",
    "<pre>\n",
    "Especificação   Código  Preço\n",
    "Cachorro Quente 100     R$ 1,20\n",
    "Bauru Simples   101     R$ 1,30\n",
    "Bauru com ovo   102     R$ 1,50\n",
    "Hambúrguer      103     R$ 1,20\n",
    "Cheeseburguer   104     R$ 1,30\n",
    "Refrigerante    105     R$ 1,00\n",
    "Faça um programa que leia o código dos itens pedidos e as quantidades desejadas. Calcule e mostre o valor a ser pago por item (preço * quantidade) e o total geral do pedido. Considere que o cliente deve informar quando o pedido deve ser encerrado.\n",
    "</pre>"
   ]
  },
  {
   "cell_type": "code",
   "execution_count": 1,
   "id": "8a784b86",
   "metadata": {
    "id": "8a784b86"
   },
   "outputs": [
    {
     "name": "stdout",
     "output_type": "stream",
     "text": [
      "CARDAPIO LANCHONETE COMEU MORREU\n",
      "especificação         codigo    R$ preco\n",
      "cachoro quente          100           1,20\n",
      "bauru simples           101           1,30\n",
      "bauru com ovo           102           1,50\n",
      "hamburguer              103           1,20\n",
      "cheeseburger            104           1,30\n",
      "refrigerante            105           1,00\n",
      "\n",
      "digite o codigo do produto: 100\n",
      "quantidade do produto: 10\n",
      "quer continuar comprando?[s/n]n\n",
      "total a ser pago : R$12.00\n"
     ]
    }
   ],
   "source": [
    "print(f'{\"CARDAPIO LANCHONETE COMEU MORREU\"}')\n",
    "print(f'{\"especificação\":<20}{\"codigo\":^10}{\"R$ preco\":>10}')\n",
    "print(f'''{\"cachoro quente\":<20} {\"100\":^10} {\"1,20\":>10}\n",
    "{\"bauru simples\":<20} {\"101\":^10} {\"1,30\":>10}\n",
    "{\"bauru com ovo\":<20} {\"102\":^10} {\"1,50\":>10}\n",
    "{\"hamburguer\":<20} {\"103\":^10} {\"1,20\":>10}\n",
    "{\"cheeseburger\":<20} {\"104\":^10} {\"1,30\":>10}\n",
    "{\"refrigerante\":<20} {\"105\":^10} {\"1,00\":>10}\n",
    "''')\n",
    "compra = 0\n",
    "resp = 's'\n",
    "while resp not in 'Nn':\n",
    "    codigo_produto = int(input('digite o codigo do produto: '))\n",
    "    qtde_produto = int(input(f'quantidade do produto: '))\n",
    "    \n",
    "    if codigo_produto == 100:\n",
    "        compra += qtde_produto * 1.20\n",
    "    elif codigo_produto == 101:\n",
    "        compra += qtde_produto * 1.30\n",
    "    elif codigo_produto == 102:\n",
    "        compra += qtde_produto * 1.50\n",
    "    elif codigo_produto == 103:\n",
    "        compra += qtde_produto * 1.20\n",
    "    elif codigo_produto == 104:\n",
    "        compra += qtde_produto * 1.30\n",
    "    elif codigo_produto == 105 :\n",
    "        compra += qtde_produto * 1.0\n",
    "    \n",
    "    resp = str(input('quer continuar comprando?[s/n]')).lower()\n",
    "\n",
    "print(f'total a ser pago : R${compra:.2f}')\n",
    "    \n",
    "    \n",
    "    "
   ]
  },
  {
   "cell_type": "markdown",
   "id": "9877b8ba",
   "metadata": {
    "id": "9877b8ba"
   },
   "source": [
    "#### 14. Uma grande emissora de televisão quer fazer uma enquete entre os seus telespectadores para saber qual o melhor jogador após cada jogo. Para isto, faz-se necessário o desenvolvimento de um programa, que será utilizado pelas telefonistas, para a computação dos votos. Sua equipe foi contratada para desenvolver este programa, utilizando a linguagem de programação Python. Para computar cada voto, a telefonista digitará um número, entre 1 e 23, correspondente ao número da camisa do jogador. Um número de jogador igual zero, indica que a votação foi encerrada. Se um número inválido for digitado, o programa deve ignorá-lo, mostrando uma breve mensagem de aviso, e voltando a pedir outro número. Após o final da votação, o programa deverá exibir:\n",
    "<pre>a. O total de votos computados;\n",
    "b. Os números e respectivos votos de todos os jogadores que receberam votos;\n",
    "c. O percentual de votos de cada um destes jogadores;\n",
    "d. O número do jogador escolhido como o melhor jogador da partida, juntamente com o número de votos e o percentual de votos dados a ele.\n",
    "        Observe que os votos inválidos e o zero final não devem ser computados como votos. O resultado aparece ordenado pelo número do jogador. O programa deve fazer uso de arrays. O programa deverá executar o cálculo do percentual de cada jogador através de uma função. Esta função receberá dois parâmetros: o número de votos de um jogador e o total de votos. A função calculará o percentual e retornará o valor calculado. Abaixo segue uma tela de exemplo. O disposição das informações deve ser o mais próxima possível ao exemplo. Os dados são fictícios e podem mudar a cada execução do programa. Ao final, o programa deve ainda gravar os dados referentes ao resultado da votação em um arquivo texto no disco, obedecendo a mesma disposição apresentada na tela.</pre>\n",
    "```\n",
    "Enquete: Quem foi o melhor jogador?\n",
    "\n",
    "Número do jogador (0=fim): 9\n",
    "Número do jogador (0=fim): 10\n",
    "Número do jogador (0=fim): 9\n",
    "Número do jogador (0=fim): 10\n",
    "Número do jogador (0=fim): 11\n",
    "Número do jogador (0=fim): 10\n",
    "Número do jogador (0=fim): 50\n",
    "Informe um valor entre 1 e 23 ou 0 para sair!\n",
    "Número do jogador (0=fim): 9\n",
    "Número do jogador (0=fim): 9\n",
    "Número do jogador (0=fim): 0\n",
    "\n",
    "Resultado da votação:\n",
    "\n",
    "Foram computados 8 votos.\n",
    "\n",
    "Jogador Votos           %\n",
    "9               4               50,0%\n",
    "10              3               37,5%\n",
    "11              1               12,5%\n",
    "``` "
   ]
  },
  {
   "cell_type": "code",
   "execution_count": null,
   "id": "79b82364",
   "metadata": {
    "id": "79b82364"
   },
   "outputs": [],
   "source": [
    "\n",
    "        \n",
    "    "
   ]
  }
 ],
 "metadata": {
  "colab": {
   "collapsed_sections": [],
   "provenance": []
  },
  "kernelspec": {
   "display_name": "Python 3 (ipykernel)",
   "language": "python",
   "name": "python3"
  },
  "language_info": {
   "codemirror_mode": {
    "name": "ipython",
    "version": 3
   },
   "file_extension": ".py",
   "mimetype": "text/x-python",
   "name": "python",
   "nbconvert_exporter": "python",
   "pygments_lexer": "ipython3",
   "version": "3.11.5"
  }
 },
 "nbformat": 4,
 "nbformat_minor": 5
}
