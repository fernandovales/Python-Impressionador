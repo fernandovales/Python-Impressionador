{
 "cells": [
  {
   "cell_type": "markdown",
   "metadata": {},
   "source": [
    "# Exercícios\n",
    "\n",
    "São exercícios bem parecidos com os que fizemos com listas. Mas na tupla, podemos não só trabalhar com índices, mas fazer o \"unpacking\" das tuplas, o que pode facilitar nossos códigos.\n",
    "\n",
    "## 1. Análise de Vendas\n",
    "\n",
    "Nesse exercício vamos fazer uma \"análise simples\" de atingimento de Meta.\n",
    "\n",
    "Temos uma lista com os vendedores e os valores de vendas e queremos identificar (printar) quais os vendedores que bateram a meta e qual foi o valor que eles venderam."
   ]
  },
  {
   "cell_type": "code",
   "execution_count": 24,
   "metadata": {},
   "outputs": [
    {
     "name": "stdout",
     "output_type": "stream",
     "text": [
      "João 15000\n",
      "Julia 27000\n",
      "Ana 10300\n"
     ]
    }
   ],
   "source": [
    "meta = 10000\n",
    "vendas = [\n",
    "    ('João', 15000),\n",
    "    ('Julia', 27000),\n",
    "    ('Marcus', 9900),\n",
    "    ('Maria', 3750),\n",
    "    ('Ana', 10300),\n",
    "    ('Alon', 7870),\n",
    "]\n",
    "\n",
    "for venda in vendas:\n",
    "    vendedor, valor = venda\n",
    "    if valor >= meta:\n",
    "        print(vendedor, valor)"
   ]
  },
  {
   "cell_type": "code",
   "execution_count": 25,
   "metadata": {},
   "outputs": [
    {
     "name": "stdout",
     "output_type": "stream",
     "text": [
      "João 15000\n",
      "Julia 27000\n",
      "Ana 10300\n"
     ]
    }
   ],
   "source": [
    "for vendedor, valor in vendas:\n",
    "    if valor >= meta:\n",
    "        print(vendedor, valor)"
   ]
  },
  {
   "cell_type": "markdown",
   "metadata": {},
   "source": [
    "## 2. Comparação com Ano Anterior\n",
    "\n",
    "Digamos que você está analisando as vendas de produtos de um ecommerce e quer identificar quais produtos tiveram no ano de 2020 mais vendas do que no ano de 2019, para reportar isso para a diretoria.\n",
    "\n",
    "Sua resposta pode ser um print de cada produto, qual foi a venda de 2019, a venda de 2020 e o % de crescimento de 2020 para 2019.\n",
    "\n",
    "Lembrando, para calcular o % de crescimento de um produto de um ano para o outro, podemos fazer: (vendas_produto2020/vendas_produto2019 - 1)\n",
    "\n",
    "A lógica da tupla é: (produto, vendas2019, vendas2020)"
   ]
  },
  {
   "cell_type": "code",
   "execution_count": 22,
   "metadata": {},
   "outputs": [
    {
     "name": "stdout",
     "output_type": "stream",
     "text": [
      "PRODUTO               VENDAS2019      VENDAS2020     AUMENTO %\n",
      "iphone                 558,147.00      951,642.00    70.5%\n",
      "tv                     405,252.00      787,604.00    94.3%\n",
      "máquina de café        718,654.00      867,660.00    20.7%\n",
      "notebook dell          422,760.00      694,913.00    64.4%\n",
      "notebook hp            154,753.00      539,704.00    248.8%\n",
      "microsoft surface      438,508.00      667,179.00    52.1%\n",
      "webcam                 237,467.00      295,633.00    24.5%\n",
      "caixa de som           489,705.00      725,316.00    48.1%\n",
      "microfone              328,311.00      644,622.00    96.3%\n",
      "câmera canon           591,120.00      994,303.00    68.2%\n"
     ]
    }
   ],
   "source": [
    "vendas_produtos = [('iphone', 558147, 951642), ('galaxy', 712350, 244295), ('ipad', 573823, 26964), ('tv', 405252, 787604), ('máquina de café', 718654, 867660), ('kindle', 531580, 78830), ('geladeira', 973139, 710331), ('adega', 892292, 646016), ('notebook dell', 422760, 694913), ('notebook hp', 154753, 539704), ('notebook asus', 887061, 324831), ('microsoft surface', 438508, 667179), ('webcam', 237467, 295633), ('caixa de som', 489705, 725316), ('microfone', 328311, 644622), ('câmera canon', 591120, 994303)]\n",
    "\n",
    "#seu código aqui\n",
    "print(f'{\"PRODUTO\":<20}{\"VENDAS2019\":^15} {\"VENDAS2020\":^15} {\"AUMENTO %\":>10}')\n",
    "for item in vendas_produtos:\n",
    "    produto , vendas2019, vendas2020 = item\n",
    "    if vendas2020 > vendas2019:\n",
    "        print(f'{produto:<20} {vendas2019:^15,.2f} {vendas2020:^15,.2f} {vendas2020/vendas2019 - 1:.1%}')"
   ]
  },
  {
   "cell_type": "markdown",
   "metadata": {},
   "source": [
    "forma simplificada"
   ]
  },
  {
   "cell_type": "code",
   "execution_count": 23,
   "metadata": {},
   "outputs": [
    {
     "name": "stdout",
     "output_type": "stream",
     "text": [
      "PRODUTO               VENDAS2019      VENDAS2020     AUMENTO %\n",
      "iphone                 558,147.00      951,642.00    70.5%\n",
      "tv                     405,252.00      787,604.00    94.3%\n",
      "máquina de café        718,654.00      867,660.00    20.7%\n",
      "notebook dell          422,760.00      694,913.00    64.4%\n",
      "notebook hp            154,753.00      539,704.00    248.8%\n",
      "microsoft surface      438,508.00      667,179.00    52.1%\n",
      "webcam                 237,467.00      295,633.00    24.5%\n",
      "caixa de som           489,705.00      725,316.00    48.1%\n",
      "microfone              328,311.00      644,622.00    96.3%\n",
      "câmera canon           591,120.00      994,303.00    68.2%\n"
     ]
    }
   ],
   "source": [
    "vendas_produtos = [('iphone', 558147, 951642), ('galaxy', 712350, 244295), ('ipad', 573823, 26964), ('tv', 405252, 787604), ('máquina de café', 718654, 867660), ('kindle', 531580, 78830), ('geladeira', 973139, 710331), ('adega', 892292, 646016), ('notebook dell', 422760, 694913), ('notebook hp', 154753, 539704), ('notebook asus', 887061, 324831), ('microsoft surface', 438508, 667179), ('webcam', 237467, 295633), ('caixa de som', 489705, 725316), ('microfone', 328311, 644622), ('câmera canon', 591120, 994303)]\n",
    "\n",
    "print(f'{\"PRODUTO\":<20}{\"VENDAS2019\":^15} {\"VENDAS2020\":^15} {\"AUMENTO %\":>10}')\n",
    "for produto, vendas2019, vendas2020 in vendas_produtos:\n",
    "    if vendas2020 > vendas2019:\n",
    "        print(f'{produto:<20} {vendas2019:^15,.2f} {vendas2020:^15,.2f} {vendas2020/vendas2019 - 1:.1%}')"
   ]
  },
  {
   "cell_type": "code",
   "execution_count": null,
   "metadata": {},
   "outputs": [],
   "source": []
  }
 ],
 "metadata": {
  "kernelspec": {
   "display_name": "Python 3 (ipykernel)",
   "language": "python",
   "name": "python3"
  },
  "language_info": {
   "codemirror_mode": {
    "name": "ipython",
    "version": 3
   },
   "file_extension": ".py",
   "mimetype": "text/x-python",
   "name": "python",
   "nbconvert_exporter": "python",
   "pygments_lexer": "ipython3",
   "version": "3.11.5"
  }
 },
 "nbformat": 4,
 "nbformat_minor": 4
}
