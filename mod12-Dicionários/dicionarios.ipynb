{
 "cells": [
  {
   "cell_type": "markdown",
   "metadata": {},
   "source": [
    "### Exercício 1\n",
    "Crie um sistema de consulta de preços\n",
    "Seu sistema deve:\n",
    "- Pedir para o usuário o nome de um produto\n",
    "- Caso o produto exista na lista de produtos, o programa deve retornar o preço do produto como resposta\n",
    "       - Ex: O produto celular custa R$1500\n",
    "- Caso o produto não exista na lista de produtos, o programa deve printar uma mensagem para o usuário tentar novamente\n"
   ]
  },
  {
   "cell_type": "code",
   "execution_count": 7,
   "metadata": {},
   "outputs": [
    {
     "name": "stdout",
     "output_type": "stream",
     "text": [
      "digite o nome do produto: camera\n",
      "verificando o preco...\n",
      "o produto camera custa R$ 1000\n"
     ]
    }
   ],
   "source": [
    "from time import sleep\n",
    "precos = {\"celular\": 1500, \"camera\": 1000, \"fone de ouvido\": 800, \"monitor\": 2000}\n",
    "while True:\n",
    "    nome_produto = str(input('digite o nome do produto: '))\n",
    "    if nome_produto not in precos.keys():\n",
    "        print('Erro! produto não enccontrado. digite o produto novamente')\n",
    "    if nome_produto in precos.keys():\n",
    "        print('verificando o preco...')\n",
    "        sleep(1)\n",
    "        break\n",
    "        \n",
    "if nome_produto in precos.keys():\n",
    "    print(f'o produto {nome_produto} custa R$ {precos[nome_produto]}')\n",
    "else:\n",
    "    print('Erro! produto não encontrado. digite outro produto')"
   ]
  },
  {
   "cell_type": "markdown",
   "metadata": {},
   "source": [
    "\n",
    "### Exercício 2\n",
    "Agora edite o programa anterior para fazer com que, caso não exista o produto, o programa pergunte se o usuário quer cadastrar o produto\n",
    "<br>Se ele responder sim, o programa deve pedir o nome do produto e o preco do produto e cadastrar no dicionário de preços\n",
    "<br>Em seguida do cadastro bem sucedido, o programa deve printar o dicionário de precos atualizado\n"
   ]
  },
  {
   "cell_type": "code",
   "execution_count": 1,
   "metadata": {},
   "outputs": [
    {
     "name": "stdout",
     "output_type": "stream",
     "text": [
      "digite o nome do produto: vibrador\n",
      "produto não encontardo.\n",
      "quer cadastrar o produto?(S/N)n\n",
      "<<VOLTE SEMPRE!>>\n",
      "{'celular': 1500, 'camera': 1000, 'fone de ouvido': 800, 'monitor': 2000}\n"
     ]
    }
   ],
   "source": [
    "precos = {\"celular\": 1500, \"camera\": 1000, \"fone de ouvido\": 800, \"monitor\": 2000}\n",
    "nome_produto = str(input('digite o nome do produto: '))\n",
    "\n",
    "if nome_produto in precos.keys():\n",
    "    print(f'o produto {nome_produto} custa R${precos[nome_produto]} reais')\n",
    "else:\n",
    "    print('produto não encontardo.')\n",
    "    resp = str(input('quer cadastrar o produto?(S/N)')).strip()[0]\n",
    "    if resp in 'Ss':\n",
    "        nome_produto = str(input('digite o nome do produto para cadastrar: '))\n",
    "        preco = float(input('digite o preco do produto: '))\n",
    "        precos[nome_produto] = preco\n",
    "    else:\n",
    "        print('<<VOLTE SEMPRE!>>')\n",
    "print(precos)"
   ]
  },
  {
   "cell_type": "markdown",
   "metadata": {},
   "source": [
    "### Exercício 3\n",
    "Dada a lista de preços de produtos, uma loja resolveu fazer um reajuste nos preços dos produtos. \n",
    "calcule o novo valor dos produtos com base nas seguintes regras:\n",
    "- Preços até 1.000 vão ter um reajuste de 10% (ou seja, o novo preço será 110% do preço atual)\n",
    "- Preços até maiores que 1.000 até 2.000 vão ter reajuste de 15%\n",
    "- Preços acima de 2.000 vão ter reajuste de 20%"
   ]
  },
  {
   "cell_type": "code",
   "execution_count": 24,
   "metadata": {},
   "outputs": [
    {
     "name": "stdout",
     "output_type": "stream",
     "text": [
      "=-=-=-=-=-=-=-=-=-=-=-=-=-=-=-=-=-=-=-=-=-=-=-=-=-=-=-=-=-=-\n",
      "           TABELA DE NOVOS PREÇOS 2024            \n",
      "=-=-=-=-=-=-=-=-=-=-=-=-=-=-=-=-=-=-=-=-=-=-=-=-=-=-=-=-=-=-\n",
      "PRODUTO                  PRECO (R$)     \n",
      "celular                   1725.00       \n",
      "camera                    1100.00       \n",
      "fone de ouvido             880.00       \n",
      "monitor                   3600.00       \n"
     ]
    }
   ],
   "source": [
    "precos = {\"celular\": 1500, \"camera\": 1000, \"fone de ouvido\": 800, \"monitor\": 3000}\n",
    "\n",
    "for preco in precos:\n",
    "    if precos[preco] <= 1000:\n",
    "        precos[preco] *= 1.10    \n",
    "    elif 1000 < precos[preco] <= 2000:\n",
    "        precos[preco] *= 1.15  \n",
    "    else:\n",
    "        precos[preco] *= 1.20\n",
    "        \n",
    "print('=-'*30) \n",
    "print(f'{\"TABELA DE NOVOS PREÇOS 2024\":^50}')\n",
    "print('=-'*30) \n",
    "print(f'{\"PRODUTO\":<20}{\"PRECO (R$)\":^20}')\n",
    "for produto in precos:\n",
    "    print(f'{produto:<20}{precos[produto]:^20.2f}')\n",
    "\n"
   ]
  },
  {
   "cell_type": "markdown",
   "metadata": {},
   "source": [
    "### Exercício 4\n",
    " - Edite o programa antigo para ter os 2 dicionários, o de preços originais e o de novos preços\n",
    " - Em seguida calcule o valor total de reajuste em R$ que teve entre a lista de produtos original e a lista final\n"
   ]
  },
  {
   "cell_type": "code",
   "execution_count": 25,
   "metadata": {},
   "outputs": [
    {
     "name": "stdout",
     "output_type": "stream",
     "text": [
      "o produto celular, novo preco 1725.00\n",
      "o produto camera, novo preco 1100.00\n",
      "o produto fone de ouvido, novo preco 880.00\n",
      "o produto monitor, novo preco 3600.00\n",
      "o reajuste total foi de R$ 1005.0\n"
     ]
    }
   ],
   "source": [
    "#MINHA SOLUÇÃO\n",
    "precos = {\"celular\": 1500, \"camera\": 1000, \"fone de ouvido\": 800, \"monitor\": 3000}\n",
    "novos_precos = {}\n",
    "novo_preco = 0\n",
    "for preco in precos:\n",
    "    if precos[preco] <= 1000:\n",
    "        novo_preco = precos[preco] * 1.10    \n",
    "    elif 1000 < precos[preco] <= 2000:\n",
    "        novo_preco = precos[preco] * 1.15  \n",
    "    else:\n",
    "        novo_preco = precos[preco] * 1.20\n",
    "    print(f'o produto {preco}, novo preco {novo_preco:.2f}')\n",
    "    novos_precos[preco] = novo_preco\n",
    "\n",
    "total_antigo = sum(precos.values())\n",
    "total_nova = sum(novos_precos.values())\n",
    "print(f'o reajuste total foi de R$ {total_nova - total_antigo}')\n",
    "\n"
   ]
  },
  {
   "cell_type": "code",
   "execution_count": 20,
   "metadata": {},
   "outputs": [
    {
     "name": "stdout",
     "output_type": "stream",
     "text": [
      "Produto celular, Novo Preço: R$1724.9999999999998\n",
      "Produto camera, Novo Preço: R$1100.0\n",
      "Produto fone de ouvido, Novo Preço: R$880.0000000000001\n",
      "Produto monitor, Novo Preço: R$3600.0\n",
      "O reajuste total foi de R$1005.0\n"
     ]
    }
   ],
   "source": [
    "#SOLUÇÃO HASTAG\n",
    "precos = {\"celular\": 1500, \"camera\": 1000, \"fone de ouvido\": 800, \"monitor\": 3000}\n",
    "novos_precos = {}\n",
    "for produto in precos:\n",
    "    preco_produto = precos[produto]\n",
    "    if preco_produto <= 1000:\n",
    "        novo_preco = preco_produto * 1.1\n",
    "    elif preco_produto <= 2000:\n",
    "        novo_preco = preco_produto * 1.15\n",
    "    else:\n",
    "        novo_preco = preco_produto * 1.2\n",
    "    print(f\"Produto {produto}, Novo Preço: R${novo_preco}\")\n",
    "    novos_precos[produto] = novo_preco\n",
    "total_antigo = sum(precos.values())\n",
    "total_novo = sum(novos_precos.values())\n",
    "reajuste = total_novo - total_antigo\n",
    "print(f\"O reajuste total foi de R${reajuste}\")"
   ]
  },
  {
   "cell_type": "markdown",
   "metadata": {},
   "source": [
    "\n",
    "### Exercício 5\n",
    "- Uma empresa está analisando os resultados de vendas do 1º semestre de 2022 e 2023\n",
    "- Qual foi o % de crescimento de cada mês de 2023 em relação a 2022?\n",
    "- Depois de calcular isso, calcule o valor total de crescimento de 2023 em relação a 2022"
   ]
  },
  {
   "cell_type": "code",
   "execution_count": 41,
   "metadata": {},
   "outputs": [
    {
     "name": "stdout",
     "output_type": "stream",
     "text": [
      "a variacao em jan  foi de 13.3%\n",
      "a variacao em fev  foi de -3.2%\n",
      "a variacao em mar  foi de 25.0%\n",
      "a variacao em abr  foi de 1.8%\n",
      "a variacao em mai  foi de -1.8%\n",
      "a variacao em jun  foi de 8.8%\n",
      "o crescimento de 2023 foi de 6.9%\n"
     ]
    }
   ],
   "source": [
    "vendas_22 = {\"jan\": 15000, \"fev\": 15500, \"mar\": 14000, \"abr\": 16600, \"mai\": 16300, \"jun\": 17000}\n",
    "vendas_23 = {\"jan\": 17000, \"fev\": 15000, \"mar\": 17500, \"abr\": 16900, \"mai\": 16000, \"jun\": 18500}\n",
    "\n",
    "for mes in vendas_23:\n",
    "    print(f'a variacao em {mes}  foi de {vendas_23[mes]/vendas_22[mes]-1:.1%}')\n",
    "    \n",
    "total_22 = sum(vendas_22.values())\n",
    "total_23 = sum(vendas_23.values())\n",
    "\n",
    "print(f'o crescimento de 2023 foi de {total_23 / total_22 - 1:.1%}')"
   ]
  },
  {
   "cell_type": "markdown",
   "metadata": {},
   "source": [
    "### Exercício 6 - Desafio\n",
    "- No final da reunião de apresentação dos números, seu chefe perguntou:\n",
    "- E se nos meses de 2023 que a gente vendeu menos do que 2022 a gente tivesse pelo menos empatado com 2022 (ou seja, se nos meses de 2023 em que as vendas foram menores do que o mesmo mês em 2022, o valor de vendas tivesse sido igual a 2022)\n",
    "- Qual teria sido o nosso crescimento de 2023 frente a 2022?"
   ]
  },
  {
   "cell_type": "code",
   "execution_count": 49,
   "metadata": {},
   "outputs": [
    {
     "name": "stdout",
     "output_type": "stream",
     "text": [
      "o aumento teria sido de 7.7%\n"
     ]
    }
   ],
   "source": [
    "vendas_22 = {\"jan\": 15000, \"fev\": 15500, \"mar\": 14000, \"abr\": 16600, \"mai\": 16300, \"jun\": 17000}\n",
    "vendas_23 = {\"jan\": 17000, \"fev\": 15000, \"mar\": 17500, \"abr\": 16900, \"mai\": 16000, \"jun\": 18500}\n",
    "\n",
    "for mes in vendas_23:\n",
    "    #print(f'{mes}---{vendas_23[mes]}------{vendas_22[mes]}')\n",
    "    if vendas_23[mes] < vendas_22[mes]:\n",
    "        vendas_23[mes] = vendas_22[mes]\n",
    "\n",
    "total_22 = sum(vendas_22.values())\n",
    "total_23= sum(vendas_23.values())   \n",
    "print(f'o aumento teria sido de {total_23 / total_22 - 1:.1%}')"
   ]
  },
  {
   "cell_type": "code",
   "execution_count": null,
   "metadata": {},
   "outputs": [],
   "source": []
  }
 ],
 "metadata": {
  "kernelspec": {
   "display_name": "Python 3 (ipykernel)",
   "language": "python",
   "name": "python3"
  },
  "language_info": {
   "codemirror_mode": {
    "name": "ipython",
    "version": 3
   },
   "file_extension": ".py",
   "mimetype": "text/x-python",
   "name": "python",
   "nbconvert_exporter": "python",
   "pygments_lexer": "ipython3",
   "version": "3.11.5"
  }
 },
 "nbformat": 4,
 "nbformat_minor": 2
}
