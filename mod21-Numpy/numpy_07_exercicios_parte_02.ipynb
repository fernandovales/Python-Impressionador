{
 "cells": [
  {
   "cell_type": "markdown",
   "metadata": {},
   "source": [
    "## Exercício\n",
    "\n",
    "Você é um engenheiro de produção e tem os tempos de ciclo (em minutos) de uma linha de produção em um array NumPy. Seu trabalho é identificar quaisquer tempos de ciclo que estão dois desvios padrão acima ou abaixo da média. Use o seguinte array para sua análise: `tempos_ciclo = np.array([5.5, 5.7, 5.9, 6.0, 5.8, 5.6, 5.7, 7.2, 4.8])`. "
   ]
  },
  {
   "cell_type": "code",
   "execution_count": 1,
   "metadata": {
    "ExecuteTime": {
     "end_time": "2023-07-03T12:12:12.700234800Z",
     "start_time": "2023-07-03T12:12:12.644925Z"
    },
    "collapsed": false,
    "jupyter": {
     "outputs_hidden": false
    }
   },
   "outputs": [],
   "source": [
    "import numpy as np\n",
    "\n",
    "tempos_ciclo = np.array([5.5, 5.7, 5.9, 6.0, 5.8, 5.6, 5.7, 7.2, 4.8])\n",
    "media = np.mean(tempos_ciclo) "
   ]
  },
  {
   "cell_type": "code",
   "execution_count": null,
   "metadata": {},
   "outputs": [],
   "source": [
    "desvio = np.std(tempos_ciclo)\n",
    "print(f'desvio padrao: {desvio}')\n",
    "condicao = (tempos_ciclo > media + 2 * desvio)| (tempos_ciclo < media - 2 * desvio)\n",
    "anomalias = np.where(condicao)\n",
    "print(f'valor fora do desvio : {tempos_ciclo[anomalias]}')\n",
    "print(f'posicao do valor : {anomalias}')\n",
    "\n",
    "print(f'valores booleanos da comparação: {condicao}')"
   ]
  },
  {
   "cell_type": "code",
   "execution_count": 23,
   "metadata": {},
   "outputs": [
    {
     "name": "stdout",
     "output_type": "stream",
     "text": [
      "media: 5.8\n",
      "media dos numeros gerados: 5.848053545223129\n",
      "desvio padrao: 0.592546294487706\n",
      "desvio padrao: 0.5701068395534514\n",
      "posicao fora do desvio (array([12, 69], dtype=int64),)\n",
      "valores fora do desvio : [4.42231163 4.49431839]\n"
     ]
    }
   ],
   "source": [
    "rng = np.random.default_rng(seed=0)\n",
    "tempos_gerados = rng.normal(loc=media,scale=desvio,size=100)\n",
    "\n",
    "print(f'media: {media}')\n",
    "print(f'media dos numeros gerados: {tempos_gerados.mean()}')\n",
    "\n",
    "print(f'desvio padrao: {desvio}')\n",
    "print(f'desvio padrao: {tempos_gerados.std()}')\n",
    "\n",
    "condicao = ((tempos_gerados > tempos_gerados.mean()+ 2 * tempos_gerados.std()) | (tempos_gerados < tempos_gerados.mean() -2 * tempos_gerados.std()))\n",
    "\n",
    "print(f'posicao fora do desvio {np.where(condicao)}')\n",
    "print(f'valores fora do desvio : {tempos_gerados[condicao]}')"
   ]
  }
 ],
 "metadata": {
  "kernelspec": {
   "display_name": "Python 3 (ipykernel)",
   "language": "python",
   "name": "python3"
  },
  "language_info": {
   "codemirror_mode": {
    "name": "ipython",
    "version": 3
   },
   "file_extension": ".py",
   "mimetype": "text/x-python",
   "name": "python",
   "nbconvert_exporter": "python",
   "pygments_lexer": "ipython3",
   "version": "3.12.3"
  }
 },
 "nbformat": 4,
 "nbformat_minor": 4
}
