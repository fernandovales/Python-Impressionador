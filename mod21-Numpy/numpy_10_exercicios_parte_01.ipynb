{
 "cells": [
  {
   "cell_type": "markdown",
   "metadata": {},
   "source": [
    "## Exercício\n",
    "\n",
    "Você é um gerente de vendas e tem os dados de vendas de três produtos diferentes (Produto A, Produto B, Produto C) para os últimos 5 dias em um array 2D NumPy. Cada linha do array representa um produto e cada coluna representa um dia. Seu trabalho é calcular as vendas totais para cada produto e para cada dia.\n",
    "\n",
    "Use o seguinte array para sua análise:\n",
    "\n",
    "```python\n",
    "vendas = np.array([[50, 60, 70, 65, 80],\n",
    "                   [85, 90, 78, 92, 88],\n",
    "                   [72, 75, 68, 77, 76]])\n",
    "```\n",
    "\n",
    "**Solução:**\n"
   ]
  },
  {
   "cell_type": "code",
   "execution_count": 21,
   "metadata": {
    "ExecuteTime": {
     "end_time": "2023-07-03T12:12:12.700234800Z",
     "start_time": "2023-07-03T12:12:12.677347900Z"
    },
    "collapsed": false,
    "jupyter": {
     "outputs_hidden": false
    }
   },
   "outputs": [
    {
     "name": "stdout",
     "output_type": "stream",
     "text": [
      "           TOTAL DE VENDAS POR PRODUTO            \n",
      "totais de vendas dos produtos: [325 433 368]\n",
      "total vendas PRODUTO A: 325\n",
      "total vendas PRODUTO B: 433\n",
      "total vendas PRODUTO C: 368\n",
      "\n",
      "             TOTAL DE VENDAS POR DIA              \n",
      "total de vendas por dias : [207 225 216 234 244]\n",
      "total de vendas dia 1:207\n",
      "total de vendas dia 2:225\n",
      "total de vendas dia 3:216\n",
      "total de vendas dia 4:234\n",
      "total de vendas dia 5:244\n"
     ]
    }
   ],
   "source": [
    "import numpy as np\n",
    "\n",
    "vendas = np.array([[50, 60, 70, 65, 80],\n",
    "                   [85, 90, 78, 92, 88],\n",
    "                   [72, 75, 68, 77, 76]])\n",
    "\n",
    "produtos = ['A','B','C']\n",
    "\n",
    "print(f'{\"TOTAL DE VENDAS POR PRODUTO\".center(50)}')\n",
    "total_vendas_produto = vendas.sum(axis=1)\n",
    "print(f'totais de vendas dos produtos: {total_vendas_produto}')\n",
    "\n",
    "for i,produto in enumerate(produtos):\n",
    "    print(f'total vendas PRODUTO {produto}: {total_vendas_produto[i]}')\n",
    "print()\n",
    "\n",
    "print(f'{\"TOTAL DE VENDAS POR DIA\".center(50)}')\n",
    "total_vendas_dias = vendas.sum(axis=0)\n",
    "print(f'total de vendas por dias : {total_vendas_dias}')\n",
    "\n",
    "for i,venda in enumerate(total_vendas_dias):\n",
    "    print(f'total de vendas dia {i+1}:{total_vendas_dias[i]}')\n"
   ]
  }
 ],
 "metadata": {
  "kernelspec": {
   "display_name": "Python 3 (ipykernel)",
   "language": "python",
   "name": "python3"
  },
  "language_info": {
   "codemirror_mode": {
    "name": "ipython",
    "version": 3
   },
   "file_extension": ".py",
   "mimetype": "text/x-python",
   "name": "python",
   "nbconvert_exporter": "python",
   "pygments_lexer": "ipython3",
   "version": "3.12.3"
  }
 },
 "nbformat": 4,
 "nbformat_minor": 4
}
