{
 "cells": [
  {
   "cell_type": "markdown",
   "metadata": {},
   "source": [
    "# E quando o nosso código demora muito? Será que travou? Quanto tempo vai demorar?\n",
    "\n",
    "### Biblioteca/Módulo tqdm\n",
    "\n",
    "- Vamos importar os arquivos csv da Empresa Contoso e tratar como fizemos ao longo desse módulo"
   ]
  },
  {
   "cell_type": "code",
   "execution_count": 4,
   "metadata": {},
   "outputs": [
    {
     "data": {
      "text/html": [
       "<div>\n",
       "<style scoped>\n",
       "    .dataframe tbody tr th:only-of-type {\n",
       "        vertical-align: middle;\n",
       "    }\n",
       "\n",
       "    .dataframe tbody tr th {\n",
       "        vertical-align: top;\n",
       "    }\n",
       "\n",
       "    .dataframe thead th {\n",
       "        text-align: right;\n",
       "    }\n",
       "</style>\n",
       "<table border=\"1\" class=\"dataframe\">\n",
       "  <thead>\n",
       "    <tr style=\"text-align: right;\">\n",
       "      <th></th>\n",
       "      <th>ID Promocao</th>\n",
       "      <th>Nome Promocao</th>\n",
       "      <th>Percentual Desconto</th>\n",
       "      <th>Data Inicio</th>\n",
       "      <th>Data Termino</th>\n",
       "    </tr>\n",
       "  </thead>\n",
       "  <tbody>\n",
       "    <tr>\n",
       "      <th>0</th>\n",
       "      <td>1</td>\n",
       "      <td>Sem desconto</td>\n",
       "      <td>0</td>\n",
       "      <td>01/01/2017</td>\n",
       "      <td>31/12/2020</td>\n",
       "    </tr>\n",
       "    <tr>\n",
       "      <th>1</th>\n",
       "      <td>2</td>\n",
       "      <td>Promoção de Primavera Americana</td>\n",
       "      <td>0,05</td>\n",
       "      <td>01/01/2017</td>\n",
       "      <td>31/03/2017</td>\n",
       "    </tr>\n",
       "    <tr>\n",
       "      <th>2</th>\n",
       "      <td>3</td>\n",
       "      <td>Promoção Volta às Aulas Americanas</td>\n",
       "      <td>0,1</td>\n",
       "      <td>01/07/2017</td>\n",
       "      <td>30/09/2017</td>\n",
       "    </tr>\n",
       "    <tr>\n",
       "      <th>3</th>\n",
       "      <td>4</td>\n",
       "      <td>Promoção Férias Escolares Americanas</td>\n",
       "      <td>0,2</td>\n",
       "      <td>01/11/2017</td>\n",
       "      <td>31/12/2017</td>\n",
       "    </tr>\n",
       "    <tr>\n",
       "      <th>4</th>\n",
       "      <td>5</td>\n",
       "      <td>Promoção Férias Asiáticas</td>\n",
       "      <td>0,15</td>\n",
       "      <td>01/11/2017</td>\n",
       "      <td>31/01/2018</td>\n",
       "    </tr>\n",
       "  </tbody>\n",
       "</table>\n",
       "</div>"
      ],
      "text/plain": [
       "   ID Promocao                         Nome Promocao Percentual Desconto  \\\n",
       "0            1                          Sem desconto                   0   \n",
       "1            2       Promoção de Primavera Americana                0,05   \n",
       "2            3    Promoção Volta às Aulas Americanas                 0,1   \n",
       "3            4  Promoção Férias Escolares Americanas                 0,2   \n",
       "4            5             Promoção Férias Asiáticas                0,15   \n",
       "\n",
       "  Data Inicio Data Termino  \n",
       "0  01/01/2017   31/12/2020  \n",
       "1  01/01/2017   31/03/2017  \n",
       "2  01/07/2017   30/09/2017  \n",
       "3  01/11/2017   31/12/2017  \n",
       "4  01/11/2017   31/01/2018  "
      ]
     },
     "metadata": {},
     "output_type": "display_data"
    }
   ],
   "source": [
    "import pandas as pd\n",
    "#importando os arquivos\n",
    "vendas_df = pd.read_csv(r'Contoso%20-%20Vendas%20-%202017.csv', sep=';',encoding='ISO-8859-1')\n",
    "produtos_df = pd.read_csv(r'Contoso%20-%20Promocoes.csv', sep=';',encoding='ISO-8859-1')\n",
    "lojas_df = pd.read_csv(r'Contoso%20-%20Lojas (1).csv', sep=';',encoding='ISO-8859-1')\n",
    "clientes_df = pd.read_csv(r'Contoso%20-%20Clientes.csv', sep=';',encoding='ISO-8859-1')\n",
    "display(produtos_df.head())\n",
    "#limpando apenas as colunas que queremos\n",
    "# clientes_df = clientes_df[['ID Cliente', 'E-mail']]\n",
    "# produtos_df = produtos_df[['ID Produto', 'Nome do Produto']]\n",
    "# lojas_df = lojas_df[['ID Loja', 'Nome da Loja']]\n",
    "\n",
    "# #mesclando e renomeando os dataframes\n",
    "# vendas_df = vendas_df.merge(produtos_df, on='ID Produto')\n",
    "# vendas_df = vendas_df.merge(lojas_df, on='ID Loja')\n",
    "# vendas_df = vendas_df.merge(clientes_df, on='ID Cliente').rename(columns={'E-mail': 'E-mail do Cliente'})\n",
    "# display(vendas_df)"
   ]
  },
  {
   "cell_type": "markdown",
   "metadata": {},
   "source": [
    "### Agora, imagina que a Loja Contoso Roma (ID 222), para tentar burlar o sistema de metas, diminuiu 1 da quantidade devolvida de todas as vendas que ela teve. Descobrindo isso, precisamos ajeitar a base\n",
    "\n",
    "- Farei com um for, principalmente por motivos didáticos, mas teríamos outras formas de fazer isso também."
   ]
  },
  {
   "cell_type": "code",
   "execution_count": null,
   "metadata": {},
   "outputs": [],
   "source": []
  }
 ],
 "metadata": {
  "kernelspec": {
   "display_name": "Python 3",
   "language": "python",
   "name": "python3"
  },
  "language_info": {
   "codemirror_mode": {
    "name": "ipython",
    "version": 3
   },
   "file_extension": ".py",
   "mimetype": "text/x-python",
   "name": "python",
   "nbconvert_exporter": "python",
   "pygments_lexer": "ipython3",
   "version": "3.12.3"
  }
 },
 "nbformat": 4,
 "nbformat_minor": 4
}
