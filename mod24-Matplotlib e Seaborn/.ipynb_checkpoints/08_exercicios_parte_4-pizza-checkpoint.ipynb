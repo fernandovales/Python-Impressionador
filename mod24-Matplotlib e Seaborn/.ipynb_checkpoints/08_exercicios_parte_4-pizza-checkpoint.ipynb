{
 "cells": [
  {
   "cell_type": "markdown",
   "metadata": {},
   "source": [
    "## Exercício para gráficos de pizza\n",
    "\n",
    "Você recebeu, na forma de listas, os dados de participação de mercado de fabricantes de smartphones. Com esses dados, você deve criar um gráfico de pizza, contendo título e rótulos das fatias, além das personalizações listadas abaixo. Os dados são:\n",
    "\n",
    "Fabricante | Participação de mercado (%)\n",
    "--- | ---\n",
    "| Samsung | 30,2\n",
    "| Apple | 26,6\n",
    "| Huawei | 10,4\n",
    "| Xiaomi | 9,7\n",
    "| Oppo | 4,8\n",
    "| Outros | 18,3\n",
    "\n",
    "Personalizações:\n",
    "\n",
    "- Paleta de cores diferente da padrão\n",
    "- Coloque os valores nas fatias\n",
    "- Destaque as fatias da Samsung e da Apple\n",
    "\n",
    "\n"
   ]
  },
  {
   "cell_type": "code",
   "execution_count": null,
   "metadata": {
    "jupyter": {
     "outputs_hidden": false
    }
   },
   "outputs": [],
   "source": [
    "# listas com os dados\n",
    "fabricante = ['Samsung', 'Apple', 'Huawei', 'Xiaomi', 'Oppo', 'Outros']\n",
    "participacao = [30.2, 26.6, 10.4, 9.7, 4.8, 18.3]"
   ]
  }
 ],
 "metadata": {
  "kernelspec": {
   "display_name": "Python 3 (ipykernel)",
   "language": "python",
   "name": "python3"
  },
  "language_info": {
   "codemirror_mode": {
    "name": "ipython",
    "version": 3
   },
   "file_extension": ".py",
   "mimetype": "text/x-python",
   "name": "python",
   "nbconvert_exporter": "python",
   "pygments_lexer": "ipython3",
   "version": "3.11.5"
  }
 },
 "nbformat": 4,
 "nbformat_minor": 4
}
