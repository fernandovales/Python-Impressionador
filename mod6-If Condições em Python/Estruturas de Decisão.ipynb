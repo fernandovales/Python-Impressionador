{
 "cells": [
  {
   "cell_type": "markdown",
   "id": "8535c274",
   "metadata": {
    "id": "8535c274"
   },
   "source": [
    "# Estruturas de decisão\n",
    "\n",
    "<span style=\"color: red;\"><b>Todos os exercícios são feitos partindo-se do pressuposto de que todas as entradas são dadas de forma correta. Casos limite não mencionados no enunciado não são abordados porque não fazem parte do exercício.</b></span>"
   ]
  },
  {
   "cell_type": "markdown",
   "id": "9c3d817e",
   "metadata": {
    "id": "9c3d817e"
   },
   "source": [
    "#### 1. Faça um Programa que peça dois números e imprima o maior deles."
   ]
  },
  {
   "cell_type": "code",
   "execution_count": null,
   "id": "ae45c028",
   "metadata": {
    "id": "ae45c028"
   },
   "outputs": [],
   "source": [
    "n1 = int(input('numero 1:'))\n",
    "n2 = int(input('numero 2: '))\n",
    "if n1 > n2 :\n",
    "    maior = n1\n",
    "else:\n",
    "    maior = n2\n",
    "print(f'a maior numero é {maior}')"
   ]
  },
  {
   "cell_type": "markdown",
   "id": "ff510803",
   "metadata": {
    "id": "ff510803"
   },
   "source": [
    "#### 2. Faça um Programa que peça um valor e mostre na tela se o valor é positivo ou negativo."
   ]
  },
  {
   "cell_type": "code",
   "execution_count": null,
   "id": "8952f58f",
   "metadata": {
    "id": "8952f58f"
   },
   "outputs": [],
   "source": [
    "n = int(input('digite um numero: '))\n",
    "if n < 0 :\n",
    "    print('negativo')\n",
    "else:\n",
    "    print('positivo')"
   ]
  },
  {
   "cell_type": "markdown",
   "id": "6966546b",
   "metadata": {
    "id": "6966546b"
   },
   "source": [
    "#### 3. Faça um Programa que verifique o estado civil de uma pessoa. Se a letra digitada é \"C\" (Casado), \"S\" (Solteiro), \"D\" (Divorciado), \"V\" (Viúvo) ou \"O\" (outros). Conforme a letra escrita pelo usuário seu programa deve escrever o estado civil, exemplo:\n",
    "\n",
    "Usuário digita: C\n",
    "\n",
    "Seu programa deve responder:\n",
    "C - Casado"
   ]
  },
  {
   "cell_type": "code",
   "execution_count": null,
   "id": "876a1e67",
   "metadata": {
    "id": "876a1e67"
   },
   "outputs": [],
   "source": [
    "estado = str(input('informe seu estado civil: ')).strip().lower()\n",
    "if estado == 'c':\n",
    "    resp ='casado'\n",
    "elif estado == 's':\n",
    "    resp = 'solteiro'\n",
    "elif estado == 'd':\n",
    "    resp = 'divorciado'\n",
    "elif estado == 'v':\n",
    "    resp = 'viuvo'\n",
    "elif estado == 'o':\n",
    "    resp = 'outros'\n",
    "else:\n",
    "    resp='opcao incorreta'\n",
    "print(f'{estado} - {resp}')\n"
   ]
  },
  {
   "cell_type": "markdown",
   "id": "c122c0cf",
   "metadata": {
    "id": "c122c0cf"
   },
   "source": [
    "#### 4. Faça um Programa que verifique se o e-mail digitado faz parte dos e-mails de spam."
   ]
  },
  {
   "cell_type": "code",
   "execution_count": null,
   "id": "59bed184",
   "metadata": {
    "id": "59bed184"
   },
   "outputs": [],
   "source": [
    "emails_spam = \"fulano@gmail.com,beltrano@gmail.com,ciclano@gmail.com\"\n",
    "\n",
    "email = str(input('digite o email: '))\n",
    "if email in emails_spam:\n",
    "    print('este email esta nos spams')\n",
    "else:\n",
    "    print('este email não esta nos spams')\n"
   ]
  },
  {
   "cell_type": "markdown",
   "id": "487ee073",
   "metadata": {
    "id": "487ee073"
   },
   "source": [
    "#### 5. Faça um programa para a leitura de duas notas parciais de um aluno. O programa deve calcular a média alcançada por aluno e apresentar:\n",
    "\n",
    "##### A mensagem \"Aprovado\", se a média alcançada for maior ou igual a sete;\n",
    "##### A mensagem \"Reprovado\", se a média for menor do que sete;\n",
    "##### A mensagem \"Aprovado com Distinção\", se a média for igual a dez."
   ]
  },
  {
   "cell_type": "code",
   "execution_count": null,
   "id": "7f5c7096",
   "metadata": {
    "id": "7f5c7096"
   },
   "outputs": [],
   "source": [
    "n1 = float(input('nota 1:'))\n",
    "n2 = float(input('nota 2:'))\n",
    "media = ( n1 + n2) / 2\n",
    "if media == 10 :\n",
    "    print('aprovado com distinção')\n",
    "elif media >= 7:\n",
    "    print('aprovado')\n",
    "else:\n",
    "    print('reprovado')\n",
    "\n",
    "        \n",
    "        \n",
    "    \n",
    "\n"
   ]
  },
  {
   "cell_type": "markdown",
   "id": "6dd3f171",
   "metadata": {
    "id": "6dd3f171"
   },
   "source": [
    "#### 6. Faça um Programa que leia o orçamento de 3 empresas e mostre o maior deles."
   ]
  },
  {
   "cell_type": "code",
   "execution_count": null,
   "id": "51b591e5",
   "metadata": {
    "id": "51b591e5"
   },
   "outputs": [],
   "source": [
    "e1 = float(input('valor do orcamento da empresa 1: '))\n",
    "e2 = float(input('valor do orcamento da empresa 2: '))\n",
    "e3 = float(input('valor do orcamento da empresa 3: '))\n",
    "\n",
    "if e1 > e2 and e1 > e3:\n",
    "    print(f'maior é {e1}')\n",
    "elif e2 > e1 and e2 > e3 :\n",
    "    print(f'maior é {e2}')\n",
    "elif e3 > e1 and e3 > e2:\n",
    "    print(f'maior é {e3}')\n",
    "    \n",
    "if e1 < e2 and e1 < e3:\n",
    "    print(f'menor é {e1}')\n",
    "elif e2 < e1 and e2 < e3 :\n",
    "    print(f'menor é {e2}')\n",
    "elif e3 < e1 and e3 < e2:\n",
    "    print(f'menor é {e3}')\n",
    "    "
   ]
  },
  {
   "cell_type": "markdown",
   "id": "ce09ed1c",
   "metadata": {
    "id": "ce09ed1c"
   },
   "source": [
    "#### 7. Faça um Programa que leia três orçamentos e mostre o maior e o menor deles."
   ]
  },
  {
   "cell_type": "code",
   "execution_count": null,
   "id": "249f1eb8",
   "metadata": {
    "id": "249f1eb8"
   },
   "outputs": [],
   "source": [
    "e1 = float(input('valor do orcamento da empresa 1: '))\n",
    "e2 = float(input('valor do orcamento da empresa 2: '))\n",
    "e3 = float(input('valor do orcamento da empresa 3: '))\n",
    "\n",
    "if e1 > e2 and e1 > e3:\n",
    "    print(f'maior é {e1}')\n",
    "elif e2 > e1 and e2 > e3 :\n",
    "    print(f'maior é {e2}')\n",
    "elif e3 > e1 and e3 > e2:\n",
    "    print(f'maior é {e3}')\n",
    "    \n",
    "if e1 < e2 and e1 < e3:\n",
    "    print(f'menor é {e1}')\n",
    "elif e2 < e1 and e2 < e3 :\n",
    "    print(f'menor é {e2}')\n",
    "elif e3 < e1 and e3 < e2:\n",
    "    print(f'menor é {e3}')"
   ]
  },
  {
   "cell_type": "markdown",
   "id": "7453d43a",
   "metadata": {
    "id": "7453d43a"
   },
   "source": [
    "#### 8. Faça um programa que pergunte o preço de três produtos e informe qual produto você deve comprar, sabendo que a decisão é sempre pelo mais barato."
   ]
  },
  {
   "cell_type": "code",
   "execution_count": null,
   "id": "26a9503e",
   "metadata": {
    "id": "26a9503e"
   },
   "outputs": [],
   "source": [
    "p1 = float(input('produto 1 '))\n",
    "p2 = float(input('produto 2 '))\n",
    "p3 = float(input('produto 3 '))\n",
    "\n",
    "if p1 < p2 and p1 < p3:\n",
    "    print(f'compre o produto 1 que custa {p1} reais')\n",
    "elif p2 < p1 and p2 < p3:\n",
    "    print(f'compre o produto 2 que custa {p2} reais')\n",
    "elif p3 < p1 and p3 < p2 :\n",
    "    print(f'compre o produto 3 que custa {p3} reais')"
   ]
  },
  {
   "cell_type": "markdown",
   "id": "9ade258f",
   "metadata": {
    "id": "9ade258f"
   },
   "source": [
    "#### 9. Faça um Programa que leia três números e mostre-os em ordem decrescente."
   ]
  },
  {
   "cell_type": "code",
   "execution_count": null,
   "id": "f194c39e",
   "metadata": {
    "id": "f194c39e"
   },
   "outputs": [],
   "source": [
    "\n"
   ]
  },
  {
   "cell_type": "markdown",
   "id": "d06e2fe8",
   "metadata": {
    "id": "d06e2fe8"
   },
   "source": [
    "#### 10. Faça um Programa que pergunte em que turno você estuda. Peça para digitar M-matutino ou V-Vespertino ou N- Noturno. Imprima a mensagem \"Bom Dia!\", \"Boa Tarde!\" ou \"Boa Noite!\" ou \"Valor Inválido!\", conforme o caso."
   ]
  },
  {
   "cell_type": "code",
   "execution_count": null,
   "id": "1eb36141",
   "metadata": {
    "id": "1eb36141"
   },
   "outputs": [],
   "source": [
    "turno = str(input('''digite o turno que estuda:\n",
    "[m]-matutino\n",
    "[v]-vespertino\n",
    "[n]-noturno\n",
    "'''))\n",
    "if turno == 'm':\n",
    "    print('bom dia')\n",
    "elif turno == 'v':\n",
    "    print('boa tarde')\n",
    "elif turno == 'n':\n",
    "    print('boa noite')\n",
    "else:\n",
    "    print('valor invalido')"
   ]
  },
  {
   "cell_type": "markdown",
   "id": "4864b755",
   "metadata": {
    "id": "4864b755"
   },
   "source": [
    "#### 11. As Organizações Tabajara resolveram dar um aumento de salário aos seus colaboradores e lhe contraram para desenvolver o programa que calculará os reajustes. Faça um programa que recebe o salário de um colaborador e o reajuste segundo o seguinte critério, baseado no salário atual:\n",
    "\n",
    "##### salários até R\\\\$ 280,00 (incluindo) : aumento de 20% \n",
    "\n",
    "##### salários entre R\\\\$ 280,00 e R\\\\$ 700,00 : aumento de 15% \n",
    "\n",
    "##### salários entre R\\\\$ 700,00 e R\\\\$ 1500,00 : aumento de 10% \n",
    "\n",
    "##### salários de R\\\\$ 1500,00 em diante : aumento de 5% Após o aumento ser realizado, informe na tela: \n",
    "\n",
    "###### o salário antes do reajuste;\n",
    "\n",
    "###### o percentual de aumento aplicado;\n",
    "\n",
    "###### o valor do aumento;\n",
    "\n",
    "###### o novo salário, após o aumento.\n",
    "\n",
    "###### Obs: Não vamos nos preocupar tanto com a formatação dos números (nº de casas decimais, por exemplo, veremos isso no próximo módulo)"
   ]
  },
  {
   "cell_type": "code",
   "execution_count": null,
   "id": "f0d34916",
   "metadata": {
    "id": "f0d34916"
   },
   "outputs": [],
   "source": [
    "salario = float(input('salario atual do colaborador: '))\n",
    "if salario <= 280:\n",
    "    reajuste = 0.20\n",
    "elif salario > 280 and salario <= 700:\n",
    "    reajuste = 0.15\n",
    "elif salario > 700 and salario <= 1500:\n",
    "    reajuste = 0.10\n",
    "else:\n",
    "    reajuste = 0.05\n",
    "print(f'salario antes do reajuste : {salario:.2f} R$')\n",
    "print(f'percentual de aumento: {reajuste * 100:.0f}%')\n",
    "print(f'valor do aumento: {reajuste * salario:.2f} R$')\n",
    "print(f'novo salario: {salario + reajuste * salario} R$')"
   ]
  },
  {
   "cell_type": "markdown",
   "id": "b037f1e8",
   "metadata": {
    "id": "b037f1e8"
   },
   "source": [
    "#### 12 . Faça um programa para o cálculo de uma folha de pagamento, sabendo que os descontos são do Imposto de Renda, que depende do salário bruto (conforme tabela abaixo) e que o FGTS corresponde a 11% do Salário Bruto, mas não é descontado (é a empresa que deposita). O Salário Líquido corresponde ao Salário Bruto menos os descontos. O programa deverá pedir ao usuário o valor da sua hora e a quantidade de horas trabalhadas no mês.\n",
    "\n",
    "Desconto do IR:<br>\n",
    "Salário Bruto até 900 (inclusive) - isento<br>\n",
    "Salário Bruto até 1500 (inclusive) - desconto de 5%<br>\n",
    "Salário Bruto até 2500 (inclusive) - desconto de 10%<br>\n",
    "Salário Bruto acima de 2500 - desconto de 20%<br>\n",
    "Imprima na tela as informações, dispostas conforme o exemplo abaixo. No exemplo o valor da hora é 5 e a quantidade de hora é 220.\n",
    "\n",
    "Salário Bruto: (5 * 220)        : R\\\\$ 1100,00<br>\n",
    "(-) IR (5%)                     : R\\\\$   55,00<br>\n",
    "(-) INSS ( 10%)                 : R\\\\$  110,00<br>\n",
    "FGTS (11%)                      : R\\\\$  121,00<br>\n",
    "Total de descontos              : R\\\\$  165,00<br>\n",
    "Salário Liquido                 : R\\\\$  935,00<br>\n",
    "\n",
    "###### Obs: Não vamos nos preocupar tanto com a formatação dos números (nº de casas decimais, por exemplo, veremos isso no próximo módulo)"
   ]
  },
  {
   "cell_type": "code",
   "execution_count": null,
   "id": "dad18bb2",
   "metadata": {
    "id": "dad18bb2"
   },
   "outputs": [],
   "source": [
    "valor_hora = float(input('valor da hora trabalhada: '))\n",
    "qtde_horas = int(input('quantidade de horas trabalhadas: '))\n",
    "sal_bruto = valor_hora * qtde_horas\n",
    "if sal_bruto <= 900:\n",
    "    ir = 0\n",
    "elif sal_bruto > 900 and sal_bruto <= 1500 :\n",
    "    ir = 0.05\n",
    "elif sal_bruto > 1500 and sal_bruto <= 2500 :\n",
    "    ir = 0.10\n",
    "else:\n",
    "    ir = 0.20\n",
    "valor_ir = ir * sal_bruto\n",
    "valor_inss = 0.10 * sal_bruto\n",
    "valor_fgts = 0.11 * sal_bruto\n",
    "tot_descontos = valor_ir + valor_inss\n",
    "sal_liquido = sal_bruto - tot_descontos\n",
    "print(f'salario bruto :R$ {sal_bruto:>30}')\n",
    "print(f'(-) IR ({ir * 100:.0f}): R${valor_ir:>30}')\n",
    "print(f'(-) INSS (10%) :R${valor_inss:>30}')\n",
    "print(f'(-) FGTS (11%) :R${valor_fgts:>30}')\n",
    "print(f'Total de descontos :R${tot_descontos:>30}')\n",
    "print(f'salario liquido :R${sal_liquido:>30}')\n"
   ]
  },
  {
   "cell_type": "markdown",
   "id": "814fc211",
   "metadata": {
    "id": "814fc211"
   },
   "source": [
    "#### 13. Faça um Programa que leia um número e exiba o dia correspondente da semana. (1-Domingo, 2- Segunda, etc.), se digitar outro valor deve aparecer valor inválido."
   ]
  },
  {
   "cell_type": "code",
   "execution_count": null,
   "id": "f2c2b8d8",
   "metadata": {
    "id": "f2c2b8d8"
   },
   "outputs": [],
   "source": [
    "num = int(input('digite o numero do dia da semana:'))\n",
    "if num == 1:\n",
    "    dia = 'domingo'\n",
    "elif num == 2:\n",
    "    dia = 'segunda'\n",
    "elif num == 3:\n",
    "    dia = 'terca'\n",
    "elif num == 4:\n",
    "    dia = 'quarta'\n",
    "elif num == 5:\n",
    "    dia = 'quinta'\n",
    "elif num == 6:\n",
    "    dia = 'sexta'\n",
    "elif num == 7:\n",
    "    dia = 'sabado'\n",
    "else:\n",
    "    dia ='numero invalido'\n",
    "print(f'voce informou {dia}')"
   ]
  },
  {
   "cell_type": "markdown",
   "id": "6e5f461e",
   "metadata": {
    "id": "6e5f461e"
   },
   "source": [
    "#### 14. Faça um programa que lê as duas notas parciais obtidas por um aluno numa disciplina ao longo de um semestre, e calcule a sua média. Em seguida, mostre qual conceito o aluno teve. A atribuição de conceitos obedece à tabela abaixo:\n",
    "<pre>\n",
    "Média de Aproveitamento  Conceito\n",
    "Entre 9.0 e 10.0        A\n",
    "Entre 7.5 e 9.0         B\n",
    "Entre 6.0 e 7.5         C\n",
    "Entre 4.0 e 6.0         D\n",
    "Entre 4.0 e zero        E\n",
    "</pre>"
   ]
  },
  {
   "cell_type": "code",
   "execution_count": null,
   "id": "29721a43",
   "metadata": {
    "id": "29721a43"
   },
   "outputs": [],
   "source": [
    "from random import random\n",
    "nota1 = random() *10\n",
    "nota2 = random() *10\n",
    "media = (nota1 + nota2)/2\n",
    "print(f'{media:.1f}')\n",
    "conc = ''\n",
    "if media >= 9:\n",
    "    conc ='a'\n",
    "elif 7.5 <= media < 9:\n",
    "    conc = 'b'\n",
    "elif 6 <= media < 7.5:\n",
    "    conc = 'c'\n",
    "elif 4 <= media < 6:\n",
    "    conc = 'd'\n",
    "else:\n",
    "    conc ='e'\n",
    "print(f'{conc}')"
   ]
  },
  {
   "cell_type": "markdown",
   "id": "e6b3bcaf",
   "metadata": {
    "id": "e6b3bcaf"
   },
   "source": [
    "#### 15. Você está construindo um calendário para controlar dias de trabalho a pedido do RH. Nessa construção, você vai precisar definir quais anos são bissextos e quais não são, para montar o calendário de forma correta. Faça um Programa que peça um número correspondente a um determinado ano e em seguida informe se este ano é ou não bissexto.\n",
    "<pre>\n",
    "Dica para determinar se um ano é bissexto: \n",
    "- São bissextos todos os anos múltiplos de 400, p.ex.: 1600, 2000, 2400, 2800...\n",
    "- São bissextos todos os múltiplos de 4, exceto se for múltiplo de 100 mas não de 400, \n",
    "p.ex.: 1996, 2000, 2004, 2008, 2012, 2016, 2020, 2024, 2028...\n",
    "- Não são bissextos todos os demais anos.<br>\n",
    "ex1: 2004 é múltiplo de 4, mas não é múltiplo de 100, então é bissexto.\n",
    "ex2: 2000 é múltiplo de 4, mas é múltiplo de 100, só que também é multiplo de 400, então é bissexto (porque todo ano múltiplo de 400 é bissexto, independente do resto).\n",
    "ex3: 1900 é múltiplo de 4, é múltiplo de 100, mas não é múltiplo de 400, então não é bissexto\n",
    "\n",
    "</pre>\n",
    "\n",
    "Dica: lembre que: numero % 4 é o resto da divisão do número por 4, ex: 10 % 3 = 1 (já que 10/3 = 3 e resta 1)"
   ]
  },
  {
   "cell_type": "code",
   "execution_count": null,
   "id": "56af223f",
   "metadata": {
    "id": "56af223f"
   },
   "outputs": [],
   "source": []
  },
  {
   "cell_type": "markdown",
   "id": "9fe532c8",
   "metadata": {
    "id": "9fe532c8"
   },
   "source": [
    "#### 16. Faça um Programa para leitura de três notas parciais de um aluno. O programa deve calcular a média alcançada por aluno e presentar:\n",
    "<pre>\n",
    "A mensagem \"Aprovado\", se a média for maior ou igual a 7, com a respectiva média alcançada;\n",
    "A mensagem \"Reprovado\", se a média for menor do que 7, com a respectiva média alcançada;\n",
    "A mensagem \"Aprovado com Distinção\", se a média for igual a 10.\n",
    "</pre>"
   ]
  },
  {
   "cell_type": "code",
   "execution_count": null,
   "id": "1a56e99f",
   "metadata": {
    "id": "1a56e99f"
   },
   "outputs": [],
   "source": [
    "from random import random\n",
    "n1 = 10\n",
    "n2 = 10\n",
    "n3 = 8\n",
    "media = (n1 + n2 + n3)/3\n",
    "if media == 10:\n",
    "    print(f'MEDIA = {media:.1f} - APROVADO COM DISTINÇÃO')\n",
    "elif media < 7:\n",
    "    print(f'MEDIA = {media:.1f} - REPROVADO')\n",
    "else:\n",
    "    print(f'MEDIA = {media:.1f} - APROVADO')\n",
    "    "
   ]
  },
  {
   "cell_type": "markdown",
   "id": "d544412e",
   "metadata": {
    "id": "d544412e"
   },
   "source": [
    "#### 17. João Papo-de-Pescador, homem de bem, comprou um microcomputador para controlar o rendimento diário de seu trabalho. Toda vez que ele traz um peso de peixes maior que o estabelecido pelo regulamento de pesca do estado de São Paulo (50 quilos) deve pagar uma multa de R$ 4,00 por quilo excedente. João precisa que você faça um programa que leia a variável peso (peso de peixes) e calcule o excesso. Gravar na variável excesso a quantidade de quilos além do limite e na variável multa o valor da multa que João deverá pagar. Imprima os dados do programa com as mensagens adequadas."
   ]
  },
  {
   "cell_type": "code",
   "execution_count": null,
   "id": "971ed027",
   "metadata": {
    "id": "971ed027"
   },
   "outputs": [],
   "source": [
    "peso_peixe = 75\n",
    "peso_limite = 50\n",
    "peso_excesso = 0\n",
    "multa = 4\n",
    "valor_multa = 0\n",
    "if peso_peixe > peso_limite:\n",
    "    peso_excesso = peso_peixe - peso_limite\n",
    "    valor_multa = peso_excesso * multa\n",
    "    print(f'o peixe pesou {peso_peixe}kg, {peso_excesso}kg alem do permitido, sua multa sera de {valor_multa} R$')\n",
    "else:\n",
    "    print('Peso do peixe dentro do limite permitido')"
   ]
  },
  {
   "cell_type": "markdown",
   "id": "0e5256e0",
   "metadata": {
    "id": "0e5256e0"
   },
   "source": [
    "#### 18. Faça um Programa para um caixa eletrônico. O programa deverá perguntar ao usuário a valor do saque e depois informar quantas notas de cada valor serão fornecidas. As notas disponíveis serão as de 1, 5, 10, 50 e 100 reais. O valor mínimo é de 10 reais e o máximo de 600 reais. O programa não deve se preocupar com a quantidade de notas existentes na máquina.\n",
    "<pre>\n",
    "Exemplo 1: Para sacar a quantia de 256 reais, o programa fornece duas notas de 100, uma nota de 50, uma nota de 5 e uma nota de 1;\n",
    "Exemplo 2: Para sacar a quantia de 399 reais, o programa fornece três notas de 100, uma nota de 50, quatro notas de 10, uma nota de 5 e quatro notas de 1.\n",
    "</pre>\n",
    "\n",
    "Dica1: numero // 10 vai te dar como resposta a parte inteira da divisão do número por 10.<br>\n",
    "Dica2: numero % 10 vai te dar o resto da divisão do número por 10."
   ]
  },
  {
   "cell_type": "code",
   "execution_count": null,
   "id": "9b4244c7",
   "metadata": {
    "id": "9b4244c7"
   },
   "outputs": [],
   "source": [
    "valor_saque = 399\n",
    "if valor_saque >= 10 and valor_saque < 600:\n",
    "    nota100 = valor_saque // 100\n",
    "    resto = valor_saque - nota100 * 100\n",
    "    nota50 = resto // 50\n",
    "    resto = resto - nota50 * 50\n",
    "    nota10 = resto // 10\n",
    "    resto = resto - nota10 * 10\n",
    "    nota5 = resto // 5\n",
    "    resto = resto - nota5 * 5\n",
    "    nota1 = resto // 1\n",
    "    print(f'total de notas de 100: {nota100}')\n",
    "    print(f'total de notas de 50: {nota50}')\n",
    "    print(f'total de notas de 10: {nota10}')\n",
    "    print(f'total de notas de 5: {nota5}')\n",
    "    print(f'total de notas de 1: {nota1}')\n",
    "    \n",
    "else:\n",
    "    print('o saque não pode ser realizado.')\n",
    "    "
   ]
  },
  {
   "cell_type": "markdown",
   "id": "cba47494",
   "metadata": {
    "id": "cba47494"
   },
   "source": [
    "#### 19. Faça um programa que faça 5 perguntas para uma pessoa sobre um crime. As perguntas são:\n",
    "<pre>\n",
    "\"Telefonou para a vítima?\"\n",
    "\"Esteve no local do crime?\"\n",
    "\"Mora perto da vítima?\"\n",
    "\"Devia para a vítima?\"\n",
    "\"Já trabalhou com a vítima?\" \n",
    "O programa deve no final emitir uma classificação sobre a participação da pessoa no crime. Se a pessoa responder positivamente a 2 questões ela deve ser classificada como \"Suspeita\", entre 3 e 4 como \"Cúmplice\" e 5 como \"Assassino\". Caso contrário, ele será classificado como \"Inocente\".\n",
    "</pre>"
   ]
  },
  {
   "cell_type": "code",
   "execution_count": null,
   "id": "5fdf9b88",
   "metadata": {
    "id": "5fdf9b88"
   },
   "outputs": [],
   "source": [
    "p1 = str(input('telefonou para vitima?[S/N]'))\n",
    "p2 = str(input('esteve no local do crime?[S/N]'))\n",
    "p3 = str(input('mora perto da vitima?[S/N]'))\n",
    "p4 = str(input('devia para a vitima?[S/N]'))\n",
    "p5 = str(input('já trabalhou com a vitima?[S/N]'))\n",
    "cont = 0\n",
    "if p1 == 's':\n",
    "    cont += 1\n",
    "if p2 == 's':\n",
    "    cont += 1\n",
    "if p3 == 's':\n",
    "    cont += 1\n",
    "if p4 == 's':\n",
    "    cont += 1\n",
    "if p5 == 's':\n",
    "    cont += 1\n",
    "print(cont)\n",
    "if cont == 2:\n",
    "    print('supeita')\n",
    "elif cont == 3 or cont == 4:\n",
    "    print('cumplice')\n",
    "elif cont == 5:\n",
    "    print('assassino')\n",
    "else:\n",
    "    print('inocente')"
   ]
  },
  {
   "cell_type": "markdown",
   "id": "18901e98",
   "metadata": {
    "id": "18901e98"
   },
   "source": [
    "#### 20. Um posto está vendendo combustíveis com a seguinte tabela de descontos:\n",
    "<pre>\n",
    "Álcool:\n",
    "até 20 litros, desconto de 3% por litro\n",
    "acima de 20 litros, desconto de 5% por litro\n",
    "Gasolina:\n",
    "até 20 litros, desconto de 4% por litro\n",
    "acima de 20 litros, desconto de 6% por litro\n",
    "\n",
    "Escreva um algoritmo que leia o número de litros vendidos, o tipo de combustível (codificado da seguinte forma: A-álcool, G-gasolina), calcule e imprima o valor a ser pago pelo cliente sabendo-se que o preço do litro da gasolina é R$ 2,50 o preço do litro do álcool é R$ 1,90.\n",
    "</pre>"
   ]
  },
  {
   "cell_type": "code",
   "execution_count": null,
   "id": "a1fd8c38",
   "metadata": {
    "id": "a1fd8c38"
   },
   "outputs": [],
   "source": [
    "qtde_litros = int(input('quantidade de litros :'))\n",
    "tipo = str(input('''tipo de combustivel:\n",
    "A- alcool\n",
    "G- gasolina'''))\n",
    "desconto = 0\n",
    "if tipo =='a':\n",
    "    if qtde_litros <= 20:\n",
    "        desconto = 0.03\n",
    "    else:\n",
    "        desconto = 0.05 \n",
    "    valor = qtde_litros * 1.90\n",
    "    print(f'o valor a ser pago sera R$ {valor - desconto * valor}')\n",
    "elif tipo =='g':\n",
    "    if qtde_litros <= 20:\n",
    "        desconto = 0.04\n",
    "    else:\n",
    "        desconto = 0.06\n",
    "    valor = qtde_litros * 2.50\n",
    "    print(f'o valor a ser pago sera R$ {valor - desconto * valor}')\n",
    "else:\n",
    "    print('tipo invalido')\n"
   ]
  },
  {
   "cell_type": "markdown",
   "id": "be0f8f32",
   "metadata": {
    "id": "be0f8f32"
   },
   "source": [
    "#### 21. Uma fruteira está vendendo frutas com a seguinte tabela de preços:\n",
    "<pre>\n",
    "                      Até 5 Kg           Acima de 5 Kg\n",
    "Morango         R$ 2,50 por Kg          R$ 2,20 por Kg\n",
    "Maçã            R$ 1,80 por Kg          R$ 1,50 por Kg\n",
    "Se o cliente comprar mais de 8 Kg em frutas ou o valor total da compra ultrapassar R$ 25,00, receberá ainda um desconto de 10% sobre este total. Escreva um algoritmo para ler a quantidade (em Kg) de morangos e a quantidade (em Kg) de maças adquiridas e escreva o valor a ser pago pelo cliente.\n",
    "</pre>"
   ]
  },
  {
   "cell_type": "code",
   "execution_count": 2,
   "id": "35c47c8e",
   "metadata": {
    "id": "35c47c8e"
   },
   "outputs": [
    {
     "name": "stdout",
     "output_type": "stream",
     "text": [
      "quantidade de morango:[KG] 10\n",
      "quantidade de maçã: [KG]10\n",
      "preco do morango = 22.0\n",
      "preco da maça = 15.0\n",
      "valor total da compra = 37.0\n",
      "valor do desconto = 3.7\n",
      "o valor a ser pago sera 33.3\n"
     ]
    }
   ],
   "source": [
    "qtde_morango = float(input('quantidade de morango:[KG] '))\n",
    "qtde_maca = float(input('quantidade de maçã: [KG]'))\n",
    "qtde_total = qtde_morango + qtde_maca\n",
    "\n",
    "if qtde_morango <= 5:\n",
    "    preco_morango = 2.5\n",
    "else:\n",
    "    preco_morango = 2.2\n",
    "valor_morango = qtde_morango * preco_morango\n",
    "\n",
    "if qtde_maca <= 5:\n",
    "    preco_maca = 1.8\n",
    "else:\n",
    "    preco_maca = 1.5\n",
    "valor_maca = qtde_maca * preco_maca\n",
    "\n",
    "valor_total = valor_morango + valor_maca \n",
    "\n",
    "desconto = 0\n",
    "if qtde_total > 8 or valor_total > 25:\n",
    "    desconto = 0.1 * valor_total\n",
    "print(f'preco do morango = {valor_morango}')\n",
    "print(f'preco da maça = {valor_maca}')\n",
    "print(f'valor total da compra = {valor_total}')\n",
    "print(f'valor do desconto = {desconto}')\n",
    "print(f'o valor a ser pago sera {valor_total - desconto}')\n",
    "\n",
    "\n",
    "\n"
   ]
  },
  {
   "cell_type": "markdown",
   "id": "4dbd53ed",
   "metadata": {
    "id": "4dbd53ed"
   },
   "source": [
    "#### 22. O Hipermercado Tabajara está com uma promoção de carnes que é imperdível. Confira:\n",
    "<pre>\n",
    "                      Até 5 Kg           Acima de 5 Kg\n",
    "File Duplo      R$ 4,90 por Kg          R$ 5,80 por Kg\n",
    "Alcatra         R$ 5,90 por Kg          R$ 6,80 por Kg\n",
    "Picanha         R$ 6,90 por Kg          R$ 7,80 por Kg\n",
    "Para atender a todos os clientes, cada cliente poderá levar apenas um dos tipos de carne da promoção, porém não há limites para a quantidade de carne por cliente. Se compra for feita no cartão Tabajara o cliente receberá ainda um desconto de 5% sobre o total da compra. Escreva um programa que peça o tipo e a quantidade de carne comprada pelo usuário e gere um cupom fiscal, contendo as informações da compra: tipo e quantidade de carne, preço total, tipo de pagamento, valor do desconto e valor a pagar.\n",
    "</pre>"
   ]
  },
  {
   "cell_type": "code",
   "execution_count": 32,
   "id": "15a77357",
   "metadata": {
    "id": "15a77357"
   },
   "outputs": [
    {
     "name": "stdout",
     "output_type": "stream",
     "text": [
      "informe o tipo :\n",
      "[1] - file duplo\n",
      "[2] - alcatra\n",
      "[3] - picanha\n",
      "1\n",
      "informe a quantidade: 1\n",
      "informe a forma de pagamento:\n",
      "[1] - cartao tabajara\n",
      "[2] - a vista(cartao ou pix)\n",
      "[3] - cheque ou cartao(parcelado)\n",
      "[4] - outros\n",
      "1\n",
      "=-=-=-=-=-=-=-=-=-=-=-=-=-=-=-=-=-=-=-=-=-=-=-=-=-=-=-=-=-=-=-=-=-=-=-=-=-=-=-=-\n",
      "                   CUPOM FISCAL                   \n",
      "=-=-=-=-=-=-=-=-=-=-=-=-=-=-=-=-=-=-=-=-=-=-=-=-=-=-=-=-=-=-=-=-=-=-=-=-=-=-=-=-\n",
      "tipo da carne:                               filé duplo\n",
      "quantidade: 1 KG\n",
      "preco total: R$ 4.90\n",
      "forma de pagmento: cartao tabajara\n",
      "valor do desconto: R$ 0.25\n",
      "valor a pagar :R$ 4.66\n"
     ]
    }
   ],
   "source": [
    "tipo = int(input('''informe o tipo :\n",
    "[1] - file duplo\n",
    "[2] - alcatra\n",
    "[3] - picanha\n",
    "'''))\n",
    "qtde = int(input('informe a quantidade: '))\n",
    "forma_pagamento = int(input('''informe a forma de pagamento:\n",
    "[1] - cartao tabajara\n",
    "[2] - a vista(cartao ou pix)\n",
    "[3] - cheque ou cartao(parcelado)\n",
    "[4] - outros\n",
    "'''))\n",
    "if tipo == 1 and qtde <= 5:\n",
    "    preco = 4.90 * qtde\n",
    "elif tipo == 1 and qtde > 5:\n",
    "    preco = 5.80 * qtde\n",
    "    \n",
    "if tipo == 2 and qtde <= 5:\n",
    "    preco = 5.90 * qtde\n",
    "elif tipo == 2 and qtde > 5:\n",
    "    preco = 6.80 * qtde\n",
    "    \n",
    "if tipo == 3 and qtde <= 5:\n",
    "    preco = 6.90 * qtde\n",
    "elif tipo == 3 and qtde > 5:\n",
    "    preco = 7.80 * qtde\n",
    "    \n",
    "if forma_pagamento == 1 :\n",
    "    desconto = 0.05 * preco\n",
    "else:\n",
    "    desconto = 0\n",
    "    \n",
    "if tipo == 1:\n",
    "    tipo_carne ='filé duplo'\n",
    "elif tipo == 2:\n",
    "    tipo_carne = 'alcatra'\n",
    "elif tipo == 3:\n",
    "    tipo_carne = 'picanha'\n",
    "    \n",
    "if forma_pagamento == 1:\n",
    "    pagamento = 'cartao tabajara'\n",
    "elif forma_pagamento == 2:\n",
    "    pagamento = 'a vista (cartao ou pix)'\n",
    "elif forma_pagamento == 3:\n",
    "    pagamento = 'cheque ou cartao(parcelado)'\n",
    "elif forma_pagamento == 4:\n",
    "    pagamento = 'outros'\n",
    "print('=-'*40)    \n",
    "print(f'{\"CUPOM FISCAL\":^50}')\n",
    "print('=-'*40) \n",
    "print(f'tipo da carne: {tipo_carne}')\n",
    "print(f'quantidade: {qtde:} KG')\n",
    "print(f'preco total: R$ {preco:.2f}')\n",
    "print(f'forma de pagmento: {pagamento}')\n",
    "print(f'valor do desconto: R$ {desconto:.2f}')\n",
    "print(f'valor a pagar :R$ {preco - desconto:.2f}')\n"
   ]
  },
  {
   "cell_type": "markdown",
   "id": "b949545b",
   "metadata": {
    "id": "b949545b"
   },
   "source": [
    "#### 23. Faça um Programa para uma loja de tintas. O programa deverá pedir o tamanho em metros quadrados da área a ser pintada. Considere que a cobertura da tinta é de 1 litro para cada 6 metros quadrados e que a tinta é vendida em latas de 18 litros, que custam R\\\\$ 80,00 ou em galões de 3,6 litros, que custam R\\\\$ 25,00."
   ]
  },
  {
   "cell_type": "code",
   "execution_count": 33,
   "id": "b11185b0",
   "metadata": {
    "id": "b11185b0"
   },
   "outputs": [
    {
     "name": "stdout",
     "output_type": "stream",
     "text": [
      "Informe o tamanho da área a ser pintada em m²: 56\n"
     ]
    }
   ],
   "source": [
    "area = float(input('Informe o tamanho da área a ser pintada em m²: '))\n",
    "litros_tinta = area / 6"
   ]
  },
  {
   "cell_type": "markdown",
   "id": "b3d0598f",
   "metadata": {
    "id": "b3d0598f"
   },
   "source": [
    "##### Informe ao usuário as quantidades de tinta a serem compradas e os respectivos preços em 3 situações.\n",
    "\n",
    "Dica: lembre dos operadores // e % mostrados em exercícios anteriores<br>\n",
    "Dica1: numero // 10 vai te dar como resposta a parte inteira da divisão do número por 10.<br>\n",
    "Dica2: numero % 10 vai te dar o resto da divisão do número por 10.\n",
    "\n",
    "##### 1. Comprar apenas latas de 18 litros: (apenas latas inteiras)"
   ]
  },
  {
   "cell_type": "code",
   "execution_count": 36,
   "id": "ed599d53",
   "metadata": {
    "id": "ed599d53"
   },
   "outputs": [
    {
     "name": "stdout",
     "output_type": "stream",
     "text": [
      "Informe o tamanho da área a ser pintada em m²: 30\n",
      "latas de 18L = 0.0\n"
     ]
    }
   ],
   "source": [
    "area = float(input('Informe o tamanho da área a ser pintada em m²: '))\n",
    "litros_tinta = area / 6\n",
    "print(f'latas de 18L = {litros_tinta // 18}')\n"
   ]
  },
  {
   "cell_type": "markdown",
   "id": "ab03bc10",
   "metadata": {
    "id": "ab03bc10"
   },
   "source": [
    "##### 2. Comprar apenas galões de 3,6 litros: (apenas galoes inteiros)"
   ]
  },
  {
   "cell_type": "code",
   "execution_count": 37,
   "id": "542f4a77",
   "metadata": {
    "id": "542f4a77"
   },
   "outputs": [
    {
     "name": "stdout",
     "output_type": "stream",
     "text": [
      "devem ser comprados 1.0 galoes de 3,6 L\n"
     ]
    }
   ],
   "source": [
    "print(f'devem ser comprados {litros_tinta //3.6} galoes de 3,6 L')"
   ]
  },
  {
   "cell_type": "markdown",
   "id": "8Jbw7RupH9Nc",
   "metadata": {
    "id": "8Jbw7RupH9Nc"
   },
   "source": [
    "##### 3. Misturar latas e galões, de forma que o desperdício de tinta seja menor. Acrescente 10% de folga e sempre arredonde os valores para cima, isto é, considere latas cheias."
   ]
  },
  {
   "cell_type": "markdown",
   "id": "93d4157b",
   "metadata": {
    "id": "93d4157b"
   },
   "source": [
    "O custo da lata é 80/18 = 4,44 R\\\\$/L\n",
    "\n",
    "O custo do galão é 25/3,6 = 6,94 R\\\\$/L\n",
    "\n",
    "A lata é mais econômica, então todas as latas inteiras que pudermos usar devemos comprar em latas. Se ficar faltando alguma coisa para completar devemos avaliar se é melhor comprar latas ou galões. Exemplo:\n",
    "\n",
    "Se queremos comprar 90 litros. 5 latas dão exatamente 90 litros. Então devemos comprar tudo em latas.\n",
    "\n",
    "Se queremos comprar 95 litros. 5 latas dão exatamente 90 litros. Então devemos comprar pelo menos 5 latas e avaliar o que falta, se estes últimos 5 litros valem mais apenas em latas ou galões.\n",
    "\n",
    "Para os 5 litros faltantes precisamos de 2 galões que custam 50 reais no total. Ou de uma lata que custa 80 reais no total. Portanto, neste caso vale mais a pena usar 2 galões.\n",
    "\n",
    "Se queremos comprar 107 litros. 5 latas dão exatamente 90 litros. Então devemos comprar pelo menos 5 latas e avaliar o que falta, se estes últimos 5 litros valem mais apenas em latas ou galões.\n",
    "\n",
    "Para os 17 litros faltantes precisamos de 5 galões que custam 125 reais no total. Ou de uma lata que custa 80 reais no total. Portanto, neste caso vale mais a pena usar uma lata.\n",
    "\n",
    "3 galões custam 75 reais, 4 galões custam 100 reais. Então, se for possível completar com até 3 galões escolhe-se galões. Qualquer quantidade maior que 3 galões, usa-se latas.\n",
    "\n",
    "Podemos ir ao exercício:"
   ]
  },
  {
   "cell_type": "code",
   "execution_count": null,
   "id": "01d104b6",
   "metadata": {
    "id": "01d104b6"
   },
   "outputs": [],
   "source": [
    "area = float(input('Informe o tamanho da área a ser pintada em m²: '))\n",
    "litros_tinta = area / 6\n"
   ]
  }
 ],
 "metadata": {
  "colab": {
   "provenance": []
  },
  "kernelspec": {
   "display_name": "Python 3 (ipykernel)",
   "language": "python",
   "name": "python3"
  },
  "language_info": {
   "codemirror_mode": {
    "name": "ipython",
    "version": 3
   },
   "file_extension": ".py",
   "mimetype": "text/x-python",
   "name": "python",
   "nbconvert_exporter": "python",
   "pygments_lexer": "ipython3",
   "version": "3.11.5"
  }
 },
 "nbformat": 4,
 "nbformat_minor": 5
}
