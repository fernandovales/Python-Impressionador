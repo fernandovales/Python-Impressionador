{
 "cells": [
  {
   "cell_type": "markdown",
   "metadata": {},
   "source": [
    "# Exercícios com if"
   ]
  },
  {
   "cell_type": "markdown",
   "metadata": {},
   "source": [
    "## 1. Cálculo de Bônus\n",
    "\n",
    "- Crie um programa que calcule e dê um print no bônus que os funcionários devem receber segundo a regra:\n",
    "\n",
    "A meta é 1000 vendas.<br> \n",
    "Se o valor de vendas for maior ou igual a meta, o valor do bônus do funcionário é 10% do valor de vendas.<br>\n",
    "Caso contrário o valor de bônus do funcionário é 0.<br>\n",
    "Print o bônus dos 3 funcionários"
   ]
  },
  {
   "cell_type": "code",
   "execution_count": 5,
   "metadata": {},
   "outputs": [
    {
     "name": "stdout",
     "output_type": "stream",
     "text": [
      "funcionario1 ganhou 100.0 de bonus>\n",
      "funconario2 ganhou 0 de bonus>\n",
      "funcionario3 ganhou 270.0 de bonus>\n"
     ]
    }
   ],
   "source": [
    "vendas_funcionario1 = 1000\n",
    "vendas_funcionario2 = 770\n",
    "vendas_funcionario3 = 2700\n",
    "meta = 1000\n",
    "\n",
    "if vendas_funcionario1 >= meta:\n",
    "    bonus = 0.10 * vendas_funcionario1\n",
    "else:\n",
    "    bonus = 0\n",
    "print(f'funcionario1 ganhou {bonus} de bonus>')\n",
    "if vendas_funcionario2 >= meta:\n",
    "    bonus = 0.10 * vendas_funcionario2 \n",
    "else:\n",
    "    bonus = 0\n",
    "print(f'funconario2 ganhou {bonus} de bonus>')\n",
    "if vendas_funcionario3>= meta:\n",
    "    bonus = 0.10 * vendas_funcionario3\n",
    "else:\n",
    "    bonus = 0\n",
    "print(f'funcionario3 ganhou {bonus} de bonus>')\n",
    "        \n"
   ]
  },
  {
   "cell_type": "raw",
   "metadata": {},
   "source": [
    "Resposta:\n",
    "O funcionário 1 ganhou 100 de bônus\n",
    "O funcionário 2 ganhou 0 de bônus\n",
    "O funcionário 3 ganhou 270 de bônus"
   ]
  },
  {
   "cell_type": "markdown",
   "metadata": {},
   "source": [
    "## 2. Cálculo de bônus com uma nova regra\n",
    "\n",
    "- Agora, crie um novo código que calcule e dê um print no bônus dos funcionários novamente. Porém há uma nova regra nesse 2º caso:\n",
    "\n",
    "A meta é 1000 vendas<br>\n",
    "Agora, os funcionários que venderem muito acima da meta ganham mais bônus do que os outros. Então o bônus é definido da seguinte forma:<br>\n",
    "\n",
    "- Se vendas funcionário for maior ou igual a 2000, então o bônus é de 15% sobre o valor de vendas\n",
    "- Se vendas funcionário for menor do que 2000 e maior ou igual a 1000, então o bônus é de 10% sobre o valor de vendas\n",
    "- Se vendas funcionário for menos do que 1000 então o bônus do funcionário é de 0.\n",
    "\n",
    "Use as mesmas variáveis de vendas_funcionários"
   ]
  },
  {
   "cell_type": "code",
   "execution_count": 4,
   "metadata": {},
   "outputs": [
    {
     "name": "stdout",
     "output_type": "stream",
     "text": [
      "o funcionario1 ganhou 100.0 de bonus\n",
      "o funcionario1 ganhou 0 de bonus\n",
      "o funcionario1 ganhou 405.0 de bonus\n"
     ]
    }
   ],
   "source": [
    "#crie seu código aqui\n",
    "#obs: há 2 formas de fazer, com if dentro de if ou então com if e elif. Escolha a que você preferir\n",
    "if vendas_funcionario1 < 1000:\n",
    "    bonus = 0\n",
    "elif vendas_funcionario1 >=1000 and vendas_funcionario1 < 2000:\n",
    "    bonus = 0.10 * vendas_funcionario1\n",
    "else:\n",
    "    bonus = 0.15 * vendas_funcionario1\n",
    "print(f'o funcionario1 ganhou {bonus} de bonus')\n",
    "\n",
    "if vendas_funcionario2 < 1000:\n",
    "    bonus = 0\n",
    "elif vendas_funcionario2 >=1000 and vendas_funcionario2 < 2000:\n",
    "    bonus = 0.10 * vendas_funcionario2\n",
    "else:\n",
    "    bonus = 0.15 * vendas_funcionario2\n",
    "print(f'o funcionario1 ganhou {bonus} de bonus')\n",
    "\n",
    "if vendas_funcionario3 < 1000:\n",
    "    bonus = 0\n",
    "elif vendas_funcionario3 >=1000 and vendas_funcionario3 < 2000:\n",
    "    bonus = 0.10 * vendas_funcionario3\n",
    "else:\n",
    "    bonus = 0.15 * vendas_funcionario3\n",
    "print(f'o funcionario1 ganhou {bonus} de bonus')\n",
    "\n",
    "\n",
    "\n",
    "    "
   ]
  },
  {
   "cell_type": "raw",
   "metadata": {},
   "source": [
    "Resposta:\n",
    "O funcionário 1 ganhou 100 de bônus\n",
    "O funcionário 2 ganhou 0 de bônus\n",
    "O funcionário 3 ganhou 405 de bônus"
   ]
  }
 ],
 "metadata": {
  "kernelspec": {
   "display_name": "Python 3 (ipykernel)",
   "language": "python",
   "name": "python3"
  },
  "language_info": {
   "codemirror_mode": {
    "name": "ipython",
    "version": 3
   },
   "file_extension": ".py",
   "mimetype": "text/x-python",
   "name": "python",
   "nbconvert_exporter": "python",
   "pygments_lexer": "ipython3",
   "version": "3.12.0"
  }
 },
 "nbformat": 4,
 "nbformat_minor": 4
}
