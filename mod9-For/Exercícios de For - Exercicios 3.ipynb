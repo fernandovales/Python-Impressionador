{
 "cells": [
  {
   "cell_type": "markdown",
   "metadata": {},
   "source": [
    "# Exercícios\n",
    "\n",
    "## 1. Calculando % de uma lista\n",
    "\n",
    "Faremos algo parecido com \"filtrar\" uma lista. Mais pra frente no curso aprenderemos outras formas de fazer isso, mas com o nosso conhecimentoa atual já conseguimos resolver o desafio.\n",
    "\n",
    "Digamos que a gente tenha uma lista de vendedores e ao invés de saber todos os vendedores que bateram a meta, eu quero conseguir calcular o % de vendedores que bateram a meta. Ou seja, se temos 10 vendedores e 3 bateram a meta, temos 30% dos vendedores que bateram a meta."
   ]
  },
  {
   "cell_type": "code",
   "execution_count": 14,
   "metadata": {},
   "outputs": [
    {
     "name": "stdout",
     "output_type": "stream",
     "text": [
      "6\n",
      "3\n",
      "50%\n"
     ]
    }
   ],
   "source": [
    "meta = 10000\n",
    "vendas = [\n",
    "    ['João', 15000],\n",
    "    ['Julia', 27000],\n",
    "    ['Marcus', 9900],\n",
    "    ['Maria', 3750],\n",
    "    ['Ana', 10300],\n",
    "    ['Alon', 7870],\n",
    "]\n",
    "#seu código aqui\n",
    "vendas_metas_batidas = []\n",
    "for venda in vendas:\n",
    "    if venda[1] > meta:\n",
    "        vendas_metas_batidas.append(venda)   \n",
    "print(len(vendas))\n",
    "print(len(vendas_metas_batidas))\n",
    "percentual = len(vendas_metas_batidas) /  len(vendas)\n",
    "print(f'{percentual:.0%}')\n"
   ]
  },
  {
   "cell_type": "code",
   "execution_count": 15,
   "metadata": {},
   "outputs": [
    {
     "name": "stdout",
     "output_type": "stream",
     "text": [
      "temos 6 vendedores e 3 bateram a meta, temos 50% que bateram ameta\n"
     ]
    }
   ],
   "source": [
    "cont_meta_batida = 0\n",
    "for venda in vendas:\n",
    "    if venda[1] > meta:\n",
    "        cont_meta_batida += 1\n",
    "qtde_vendedor = len(vendas)\n",
    "percentual = cont_meta_batida /qtde_vendedor\n",
    "print(f'temos {qtde_vendedor} vendedores e {cont_meta_batida} bateram a meta, temos {percentual:.0%} que bateram ameta')\n",
    "        "
   ]
  },
  {
   "cell_type": "markdown",
   "metadata": {},
   "source": [
    "- Vamos resolver de 2 formas:\n",
    "    1. Criando uma lista auxiliar apenas com os vendedores que bateram a meta\n",
    "    2. Fazendo o cálculo diretamente na lista que já temos"
   ]
  },
  {
   "cell_type": "markdown",
   "metadata": {},
   "source": [
    "## Para treinar uma estrutura parecida, crie um código para responder: quem foi o vendedor que mais vendeu?"
   ]
  },
  {
   "cell_type": "code",
   "execution_count": 20,
   "metadata": {},
   "outputs": [
    {
     "name": "stdout",
     "output_type": "stream",
     "text": [
      "Julia\n"
     ]
    }
   ],
   "source": [
    "#seu código aqui\n",
    "#pegar maior valor de venda\n",
    "maior_venda = 0\n",
    "for venda in vendas:\n",
    "    if venda[1] > maior_venda:\n",
    "        maior_venda = venda[1]\n",
    "\n",
    "#procurar o maior valor de venda quando encontra mostrar o nome so vendedor\n",
    "for venda in vendas:\n",
    "    if venda[1] == maior_venda:\n",
    "        print(venda[0])"
   ]
  },
  {
   "cell_type": "code",
   "execution_count": 25,
   "metadata": {},
   "outputs": [
    {
     "name": "stdout",
     "output_type": "stream",
     "text": [
      "['Julia', 27000]\n"
     ]
    }
   ],
   "source": [
    "#moutra maneira\n",
    "#jogar todos os valores de vendas em uma unica lista\n",
    "valor_vendas = []\n",
    "for venda in vendas:\n",
    "    valor_vendas.append(venda[1])\n",
    "maior_valor_vendas = max(valor_vendas)\n",
    "i = valor_vendas.index(maior_valor_vendas)\n",
    "print()\n"
   ]
  },
  {
   "cell_type": "code",
   "execution_count": null,
   "metadata": {},
   "outputs": [],
   "source": []
  }
 ],
 "metadata": {
  "kernelspec": {
   "display_name": "Python 3 (ipykernel)",
   "language": "python",
   "name": "python3"
  },
  "language_info": {
   "codemirror_mode": {
    "name": "ipython",
    "version": 3
   },
   "file_extension": ".py",
   "mimetype": "text/x-python",
   "name": "python",
   "nbconvert_exporter": "python",
   "pygments_lexer": "ipython3",
   "version": "3.11.5"
  }
 },
 "nbformat": 4,
 "nbformat_minor": 4
}
