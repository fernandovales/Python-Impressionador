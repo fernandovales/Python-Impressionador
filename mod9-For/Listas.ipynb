{
 "cells": [
  {
   "cell_type": "markdown",
   "id": "2b04bbea",
   "metadata": {
    "id": "2b04bbea"
   },
   "source": [
    "# Listas\n",
    "\n",
    "<span style=\"color: red;\"><b>Todos os exercícios são feitos partindo-se do pressuposto de que todas as entradas são dadas de forma correta. Casos limite não mencionados no enunciado não são abordados porque não fazem parte do exercício.</b></span>"
   ]
  },
  {
   "cell_type": "markdown",
   "id": "dcb81b29",
   "metadata": {
    "id": "dcb81b29"
   },
   "source": [
    "#### 1. Faça um Programa que leia as vendas dos vendedores, mostre a venda de cada vendedor com o seu nome e a média de vendas. "
   ]
  },
  {
   "cell_type": "code",
   "execution_count": 26,
   "id": "09c0d2b3",
   "metadata": {
    "id": "09c0d2b3"
   },
   "outputs": [
    {
     "name": "stdout",
     "output_type": "stream",
     "text": [
      "NOME                       VENDAS       \n",
      "Fulano                    1000.00       \n",
      "Beltrano                  1500.00       \n",
      "Ciclano                   1200.00       \n",
      "Lira                      1300.00       \n",
      "média de vendas: R$      1250.00       \n"
     ]
    }
   ],
   "source": [
    "vendas = [1000, 1500, 1200, 1300]\n",
    "vendedores = [\"Fulano\", \"Beltrano\", \"Ciclano\", \"Lira\"]\n",
    "print(f'{\"NOME\":20}{\"VENDAS\":^20}')\n",
    "for i in range(len(vendas)):\n",
    "    print(f'{vendedores[i]:20}{vendas[i]:^20.2f}')    \n",
    "media = sum(vendas)/len(vendedores)\n",
    "\n",
    "print(f'média de vendas: R${media:^20.2f}')\n"
   ]
  },
  {
   "cell_type": "markdown",
   "id": "cbda91b3",
   "metadata": {
    "id": "cbda91b3"
   },
   "source": [
    "#### 2. Faça um Programa que crie uma lista com as médias de cada aluno, imprima as médias de cada aluno e a quantidade de alunos com média maior que 7."
   ]
  },
  {
   "cell_type": "code",
   "execution_count": 43,
   "id": "c93dd233",
   "metadata": {
    "id": "c93dd233"
   },
   "outputs": [
    {
     "name": "stdout",
     "output_type": "stream",
     "text": [
      "ALUNO                 MÉDIA   \n",
      "José                   8.8    \n",
      "Joana                  6.5    \n",
      "Maria                  10.0   \n",
      "Carla                  6.8    \n",
      "Mauricio               6.2    \n",
      "Andre                  7.2    \n",
      "Tiago                  7.5    \n",
      "Enzo                   6.5    \n",
      "Amanda                 7.5    \n",
      "Alessandra             4.2    \n",
      "total de aluno acima da média 5\n",
      "ALUNO                 MÉDIA   \n",
      "José                   8.75   \n",
      "Maria                  10.0   \n",
      "Andre                  7.25   \n",
      "Tiago                  7.5    \n",
      "Amanda                 7.5    \n"
     ]
    }
   ],
   "source": [
    "alunos = [\"José\", \"Joana\", \"Maria\", \"Carla\", \"Mauricio\", \"Andre\", \"Tiago\", \"Enzo\", \"Amanda\", \"Alessandra\"]\n",
    "notas = [\n",
    "    [10, 9, 8, 8],\n",
    "    [9, 7, 6, 4],\n",
    "    [10, 10, 10, 10],\n",
    "    [5, 3, 10, 9],\n",
    "    [7, 6, 6, 6],\n",
    "    [7, 7, 8, 7],\n",
    "    [7, 7, 7, 9],\n",
    "    [8, 5, 6, 7],\n",
    "    [10, 9, 7, 4],\n",
    "    [10, 1, 3, 3],\n",
    "]\n",
    "medias = []\n",
    "media = 0\n",
    "acima_media = 0\n",
    "\n",
    "for notas_aluno in notas:\n",
    "    media = sum(notas_aluno)/4\n",
    "    medias.append(media)\n",
    "\n",
    "print(f'{\"ALUNO\":20}{\"MÉDIA\":^10}')\n",
    "for i in range(len(alunos)):\n",
    "    print(f'{alunos[i]:20}{medias[i]:^10.1f}')\n",
    "    if medias[i] > 7:\n",
    "        \n",
    "        acima_media += 1\n",
    "print(f'total de aluno acima da média {acima_media}')\n",
    "print(f'{\"ALUNO\":20}{\"MÉDIA\":^10}')\n",
    "for i in range(len(alunos)):\n",
    "    if medias[i] > 7:\n",
    "        print(f'{alunos[i]:20}{medias[i]:^10}')\n",
    "\n",
    "\n"
   ]
  },
  {
   "cell_type": "markdown",
   "id": "c3068a53",
   "metadata": {
    "id": "c3068a53"
   },
   "source": [
    "#### 3. Foram anotadas as idades e salários de 30 funcionários. Faça um programa que determine quantos funcionários com mais de 25 anos possuem salário inferior à média de todos os salários."
   ]
  },
  {
   "cell_type": "code",
   "execution_count": 17,
   "id": "0308566d",
   "metadata": {
    "id": "0308566d",
    "scrolled": true
   },
   "outputs": [
    {
     "name": "stdout",
     "output_type": "stream",
     "text": [
      "media salarial = 3319.8\n",
      "existem 12 funionaros\n"
     ]
    }
   ],
   "source": [
    "idades = [35,32,50,33,48,50,33,48,22,49,35,38,20,47,49,48,34,21,48,44,48,30,25,42,42,23,25,23,38,35]\n",
    "salarios = [3739, 2219, 3554, 3978, 4014, 3270, 4792, 3879 ,2981,2384,4826,2460,3680,4318,1872,1770,4640,3929,3295,1729,3965,4267,4007,1916,2987,2943,3852,4543,2055,1730]\n",
    "cont = 0\n",
    "media_salarial = sum(salarios)/len(salarios)\n",
    "print(f'media salarial = {media_salarial}')    \n",
    "for i, idade in enumerate(idades):\n",
    "    if idade > 25 and salarios[i] < media_salarial:\n",
    "        cont += 1           \n",
    "print(f'existem {cont} funionaros')\n"
   ]
  },
  {
   "cell_type": "markdown",
   "id": "1611081b",
   "metadata": {
    "id": "1611081b"
   },
   "source": [
    "#### 4.Em quais meses a média de temperatura foi maior do que a média nacional?"
   ]
  },
  {
   "cell_type": "code",
   "execution_count": 25,
   "id": "62f72e2b",
   "metadata": {
    "id": "62f72e2b"
   },
   "outputs": [
    {
     "name": "stdout",
     "output_type": "stream",
     "text": [
      "foram estes os meses com teperaturas acima da média>>>> Janeiro, Fevereiro, Março, Abril, Junho, Novembro, Dezembro, "
     ]
    }
   ],
   "source": [
    "meses = [\n",
    "    'Janeiro',\n",
    "    'Fevereiro',\n",
    "    'Março',\n",
    "    'Abril',\n",
    "    'Maio',\n",
    "    'Junho',\n",
    "    'Julho',\n",
    "    'Agosto',\n",
    "    'Setembro',\n",
    "    'Outubro',\n",
    "    'Novembro',\n",
    "    'Dezembro'\n",
    "]\n",
    "\n",
    "temperaturas = [30, 29, 28, 28, 25, 26, 20, 21, 19, 25, 27, 32]\n",
    "media_temperatura = sum(temperaturas)/12\n",
    "print('foram estes os meses com teperaturas acima da média>>>>',end=' ')\n",
    "for i , temp in enumerate(temperaturas):\n",
    "    if temp > media_temperatura:\n",
    "        print(f'{meses[i]},',end =\" \")"
   ]
  },
  {
   "cell_type": "markdown",
   "id": "8946af31",
   "metadata": {
    "id": "8946af31"
   },
   "source": [
    "#### 5. As Organizações Tabajara resolveram dar um abono aos seus colaboradores em reconhecimento ao bom resultado alcançado durante o ano que passou. Para isto contratou você para desenvolver a aplicação que servirá como uma projeção de quanto será gasto com o pagamento deste abono.\n",
    "<pre>Após reuniões envolvendo a diretoria executiva, a diretoria financeira e os representantes do sindicato laboral, chegou-se a seguinte forma de cálculo:\n",
    ". Cada funcionário receberá o equivalente a 20% do seu salário bruto de dezembro;\n",
    ". O piso do abono será de 100 reais, isto é, aqueles funcionários cujo salário for muito baixo, recebem este valor mínimo; \n",
    "\n",
    "Neste momento, não se deve ter nenhuma preocupação com colaboradores com tempo menor de casa, descontos, impostos ou outras particularidades. O programa deverá calcular o valor do abono concedido a cada colaborador, de acordo com a regra definida acima. Ao final, o programa deverá apresentar:</pre>\n",
    "<pre>\n",
    "O salário de cada funcionário, juntamente com o valor do abono;\n",
    "O número total de funcionário processados;\n",
    "O valor total a ser gasto com o pagamento do abono;\n",
    "O número de funcionário que receberá o valor mínimo de 100 reais;\n",
    "O maior valor pago como abono; A tela abaixo é um exemplo de execução do programa, apenas para fins ilustrativos.\n",
    "<pre>\n",
    "Projeção de Gastos com Abono\n",
    "============================ \n",
    " \n",
    "Salário: 1000\n",
    "Salário: 300\n",
    "Salário: 500\n",
    "Salário: 100\n",
    "Salário: 4500\n",
    "Salário: 0\n",
    " \n",
    "Salário    - Abono     \n",
    "R$ 1000.00 - R$  200.00\n",
    "R$  300.00 - R$  100.00\n",
    "R$  500.00 - R$  100.00\n",
    "R$  100.00 - R$  100.00\n",
    "R$ 4500.00 - R$  900.00\n",
    " \n",
    "Foram processados 5 colaboradores\n",
    "Total gasto com abonos: R$ 1400.00\n",
    "Valor mínimo pago a 3 colaboradores\n",
    "Maior valor de abono pago: R$ 900.00"
   ]
  },
  {
   "cell_type": "code",
   "execution_count": 43,
   "id": "fadbcfb2",
   "metadata": {
    "id": "fadbcfb2"
   },
   "outputs": [
    {
     "name": "stdout",
     "output_type": "stream",
     "text": [
      "1000       200.0     \n",
      "300        100       \n",
      "500        100.0     \n",
      "200        100       \n",
      "1500       300.0     \n",
      "3000       600.0     \n",
      "3400       680.0     \n",
      "5000       1000.0    \n",
      "7000       1400.0    \n",
      "2000       400.0     \n",
      "600        120.0     \n",
      "800        160.0     \n",
      "250        100       \n",
      "1500       300.0     \n",
      "20000      4000.0    \n",
      "foram processados15 funcionarios\n",
      "total de valor gasto com abonos 9560.00\n",
      "total de valores minimos4\n",
      "maior valor pago de abono: 4000.0\n"
     ]
    }
   ],
   "source": [
    "lista_salarios = [1000, 300, 500, 200, 1500, 3000, 3400, 5000, 7000, 2000, 600, 800, 250, 1500, 20000]\n",
    "abonos = []\n",
    "cont_valor_min = 0\n",
    "\n",
    "for salario in lista_salarios:\n",
    "    if  salario * 0.20 < 100:\n",
    "        abonos.append(100)\n",
    "    else:\n",
    "        abonos.append(salario * 0.2)  \n",
    "\n",
    "for abono in abonos:\n",
    "    if abono == 100:\n",
    "        cont_valor_min += 1\n",
    "#print(abonos)\n",
    "for i ,salario in enumerate(lista_salarios):\n",
    "    print(f'{salario:<10} {abonos[i]:<10}')\n",
    "   \n",
    "print(f'foram processados{len(lista_salarios)} funcionarios')\n",
    "print(f'total de valor gasto com abonos {sum(abonos):.2f}')\n",
    "print(f'total de valores minimos: {cont_valor_min}')\n",
    "print(f'maior valor pago de abono: {max(abonos)}')\n",
    "  "
   ]
  },
  {
   "cell_type": "markdown",
   "id": "382b0981",
   "metadata": {
    "id": "382b0981"
   },
   "source": [
    "#### 6. Faça um programa que carregue uma lista com os modelos de cinco carros (exemplo de modelos: FUSCA, GOL, VECTRA etc). Carregue uma outra lista com o consumo desses carros, isto é, quantos quilômetros cada um desses carros faz com um litro de combustível. Calcule e mostre:\n",
    "<pre>\n",
    "a. O modelo do carro mais econômico;\n",
    "b. Quantos litros de combustível cada um dos carros cadastrados consome para percorrer uma distância de 1000 quilômetros e quanto isto custará, considerando um que a gasolina custe R$ 2,25 o litro. Abaixo segue uma tela de exemplo. O disposição das informações deve ser o mais próxima possível ao exemplo. Os dados são fictícios e podem mudar a cada execução do programa.</pre>\n",
    "```\n",
    "Comparativo de Consumo de Combustível\n",
    "\n",
    "Veículo 1\n",
    "Nome: fusca\n",
    "Km por litro: 7\n",
    "Veículo 2\n",
    "Nome: gol\n",
    "Km por litro: 10\n",
    "Veículo 3\n",
    "Nome: uno\n",
    "Km por litro: 12.5\n",
    "Veículo 4\n",
    "Nome: Vectra\n",
    "Km por litro: 9\n",
    "Veículo 5\n",
    "Nome: Peugeout\n",
    "Km por litro: 14.5\n",
    "\n",
    "Relatório Final\n",
    " 1 - fusca           -    7.0 -  142.9 litros - R$ 321.43\n",
    " 2 - gol             -   10.0 -  100.0 litros - R$ 225.00\n",
    " 3 - uno             -   12.5 -   80.0 litros - R$ 180.00\n",
    " 4 - vectra          -    9.0 -  111.1 litros - R$ 250.00\n",
    " 5 - peugeout        -   14.5 -   69.0 litros - R$ 155.17\n",
    "O menor consumo é do peugeout.\n",
    "```"
   ]
  },
  {
   "cell_type": "code",
   "execution_count": 70,
   "id": "6b6c8b06",
   "metadata": {
    "id": "6b6c8b06"
   },
   "outputs": [
    {
     "name": "stdout",
     "output_type": "stream",
     "text": [
      "=-=-=-=-=-=-=-=-=-=-=-=-=-=-=-=-=-=-=-=-=-=-=-=-=-=-=-=-=-=-\n",
      "Comparativo de Consumo de Combustível\n",
      "=-=-=-=-=-=-=-=-=-=-=-=-=-=-=-=-=-=-=-=-=-=-=-=-=-=-=-=-=-=-\n",
      "veiculo: 1\n",
      "nome: fusca\n",
      "km por litro: 7\n",
      "veiculo: 2\n",
      "nome:  gol\n",
      "km por litro: 10\n",
      "veiculo: 3\n",
      "nome: uno\n",
      "km por litro: 12.5\n",
      "veiculo: 4\n",
      "nome: vectra\n",
      "km por litro: 9\n",
      "veiculo: 5\n",
      "nome: peugeot\n",
      "km por litro: 14.5\n",
      "=-=-=-=-=-=-=-=-=-=-=-=-=-=-=-=-=-=-=-=-=-=-=-=-=-=-=-=-=-=-\n",
      "Relatório Final\n",
      "=-=-=-=-=-=-=-=-=-=-=-=-=-=-=-=-=-=-=-=-=-=-=-=-=-=-=-=-=-=-\n",
      "1  - fusca      - 7     - 142.9L - R$321.43\n",
      "2  -  gol       - 10    - 100.0L - R$225.00\n",
      "3  - uno        - 12.5  - 80.0L - R$180.00\n",
      "4  - vectra     - 9     - 111.1L - R$250.00\n",
      "5  - peugeot    - 14.5  - 69.0L - R$155.17\n",
      "a maior automia é peugeot com 14.5 por litro \n"
     ]
    }
   ],
   "source": [
    "print('=-'*30)\n",
    "print('Comparativo de Consumo de Combustível')\n",
    "print('=-'*30)\n",
    "veiculos = ['fusca',' gol', 'uno', 'vectra', 'peugeot']\n",
    "autonomias = [7, 10, 12.5, 9, 14.5]\n",
    "\n",
    "for i , veiculo in enumerate(veiculos):\n",
    "    print(f'veiculo: {i+1}')\n",
    "    print(f'nome: {veiculo}')\n",
    "    print(f'km por litro: {autonomias[i]}')\n",
    "print('=-'*30)\n",
    "print('Relatório Final')\n",
    "print('=-'*30)\n",
    "\n",
    "for i , autonomia in enumerate(autonomias):\n",
    "    print(f'{i+1:<2} - {veiculos[i]:10} - {autonomia:<5} - {1000/autonomia:.1f}L - R${(1000/autonomia) * 2.25:.2f}')\n",
    "    \n",
    "maior = max(autonomias)\n",
    "i = autonomias.index(maior)\n",
    "print(f'a maior automia é {veiculos[i]} com {maior} por litro ')\n",
    "    "
   ]
  },
  {
   "cell_type": "markdown",
   "id": "1d0260a3",
   "metadata": {
    "id": "1d0260a3"
   },
   "source": [
    "#### 7. Uma empresa paga seus vendedores com base em comissões. O vendedor recebe \\\\$200 por semana mais 9 por cento de suas vendas brutas daquela semana. Por exemplo, um vendedor que teve vendas brutas de \\\\$3000 em uma semana recebe \\\\$200 mais 9 por cento de \\\\$3000, ou seja, um total de \\\\$470. Escreva um programa (usando um array de contadores) que determine quantos vendedores receberam salários nos seguintes intervalos de valores:\n",
    "<pre>\n",
    "$200 - $299\n",
    "$300 - $399\n",
    "$400 - $499\n",
    "$500 - $599\n",
    "$600 - $699\n",
    "$700 - $799\n",
    "$800 - $899\n",
    "$900 - $999\n",
    "$1000 em diante\n",
    "</pre>\n",
    "\n",
    "Existem várias formas de fazer. Faça primeiro da forma que parecer mais intuitiva para você.\n",
    "\n",
    "Em seguida, caso queira um desafio:\n",
    "Desafio: Crie uma forma para chegar na posição da lista a partir do salário, sem fazer vários ifs aninhados."
   ]
  },
  {
   "cell_type": "code",
   "execution_count": 86,
   "id": "fc6eaae4",
   "metadata": {
    "id": "fc6eaae4"
   },
   "outputs": [
    {
     "name": "stdout",
     "output_type": "stream",
     "text": [
      "[290.0, 380.0, 470.0, 560.0, 650.0, 740.0, 695.0, 605.0, 524.0]\n",
      "faixa entre 200 e 299: 1\n",
      "faixa entre 300 e 399: 1\n",
      "faixa entre 400 e 499: 1\n",
      "faixa entre 500 e 599: 2\n",
      "faixa entre 600 e 699: 3\n",
      "faixa entre 700 e 799: 1\n",
      "faixa entre 800 e 899: 0\n",
      "faixa entre 900 e 999: 0\n",
      "acima de 999: 0\n"
     ]
    }
   ],
   "source": [
    "vendas = [1000, 2000, 3000, 4000, 5000, 6000, 5500, 4500, 3600]\n",
    "salarios = []\n",
    "salario = 0\n",
    "for i, venda in enumerate(vendas):\n",
    "    salario = 200 + venda * 0.09\n",
    "    salarios.append(salario)\n",
    "cont299 = cont399 = cont499 = cont599 = cont699 = cont799 = cont899 =cont999 = cont1000 = 0 \n",
    "for salario in salarios:\n",
    "    if 200 <= salario < 299:\n",
    "        cont299 += 1\n",
    "    elif 300 <= salario < 399:\n",
    "        cont399 += 1\n",
    "    elif 400 <= salario < 499:\n",
    "        cont499 += 1\n",
    "    elif 500 <= salario < 599:\n",
    "        cont599 += 1\n",
    "    elif 600 <= salario < 699:\n",
    "        cont699 += 1\n",
    "    elif 700 <= salario < 799:\n",
    "        cont799 += 1\n",
    "    elif 800 <= salario < 899:\n",
    "        cont899 += 1\n",
    "    elif 900 <= salario < 999:\n",
    "        cont999 += 1\n",
    "    else:\n",
    "        cont1000 += 1\n",
    "print(salarios)\n",
    "\n",
    "print(f'faixa entre 200 e 299: {cont299}')  \n",
    "print(f'faixa entre 300 e 399: {cont399}')    \n",
    "print(f'faixa entre 400 e 499: {cont499}')\n",
    "print(f'faixa entre 500 e 599: {cont599}')\n",
    "print(f'faixa entre 600 e 699: {cont699}')\n",
    "print(f'faixa entre 700 e 799: {cont799}')\n",
    "print(f'faixa entre 800 e 899: {cont899}')\n",
    "print(f'faixa entre 900 e 999: {cont999}') \n",
    "print(f'acima de 999: {cont1000}') \n"
   ]
  },
  {
   "cell_type": "code",
   "execution_count": null,
   "id": "415d36a6",
   "metadata": {},
   "outputs": [],
   "source": []
  },
  {
   "cell_type": "code",
   "execution_count": null,
   "id": "50f333fa",
   "metadata": {},
   "outputs": [],
   "source": []
  }
 ],
 "metadata": {
  "colab": {
   "provenance": []
  },
  "kernelspec": {
   "display_name": "Python 3 (ipykernel)",
   "language": "python",
   "name": "python3"
  },
  "language_info": {
   "codemirror_mode": {
    "name": "ipython",
    "version": 3
   },
   "file_extension": ".py",
   "mimetype": "text/x-python",
   "name": "python",
   "nbconvert_exporter": "python",
   "pygments_lexer": "ipython3",
   "version": "3.11.5"
  }
 },
 "nbformat": 4,
 "nbformat_minor": 5
}
